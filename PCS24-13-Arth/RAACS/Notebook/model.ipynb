{
 "cells": [
  {
   "cell_type": "markdown",
   "metadata": {},
   "source": [
    "## Stock Market Analysis & Prediction Using LSTM"
   ]
  },
  {
   "cell_type": "markdown",
   "metadata": {},
   "source": [
    "### Using Keras & Tensorflow > 2.0"
   ]
  },
  {
   "cell_type": "code",
   "execution_count": 1,
   "metadata": {},
   "outputs": [],
   "source": [
    "import pandas_datareader as pdr"
   ]
  },
  {
   "cell_type": "code",
   "execution_count": 2,
   "metadata": {},
   "outputs": [
    {
     "name": "stderr",
     "output_type": "stream",
     "text": [
      "C:\\Users\\Ayush Pratap Singh\\AppData\\Local\\Temp\\ipykernel_14956\\692143963.py:1: FutureWarning: In a future version of pandas all arguments of concat except for the argument 'objs' will be keyword-only.\n",
      "  df = pdr.get_data_tiingo('AAPL', api_key = '1d7b20305873aaacd13fb46eaef129aede7cf626')\n"
     ]
    }
   ],
   "source": [
    "df = pdr.get_data_tiingo('AAPL', api_key = '1d7b20305873aaacd13fb46eaef129aede7cf626')"
   ]
  },
  {
   "cell_type": "code",
   "execution_count": 3,
   "metadata": {},
   "outputs": [],
   "source": [
    "# df.to_csv('AAPL.csv')"
   ]
  },
  {
   "cell_type": "code",
   "execution_count": 4,
   "metadata": {},
   "outputs": [],
   "source": [
    "import pandas as pd"
   ]
  },
  {
   "cell_type": "code",
   "execution_count": 5,
   "metadata": {},
   "outputs": [
    {
     "data": {
      "text/html": [
       "<div>\n",
       "<style scoped>\n",
       "    .dataframe tbody tr th:only-of-type {\n",
       "        vertical-align: middle;\n",
       "    }\n",
       "\n",
       "    .dataframe tbody tr th {\n",
       "        vertical-align: top;\n",
       "    }\n",
       "\n",
       "    .dataframe thead th {\n",
       "        text-align: right;\n",
       "    }\n",
       "</style>\n",
       "<table border=\"1\" class=\"dataframe\">\n",
       "  <thead>\n",
       "    <tr style=\"text-align: right;\">\n",
       "      <th></th>\n",
       "      <th></th>\n",
       "      <th>close</th>\n",
       "      <th>high</th>\n",
       "      <th>low</th>\n",
       "      <th>open</th>\n",
       "      <th>volume</th>\n",
       "      <th>adjClose</th>\n",
       "      <th>adjHigh</th>\n",
       "      <th>adjLow</th>\n",
       "      <th>adjOpen</th>\n",
       "      <th>adjVolume</th>\n",
       "      <th>divCash</th>\n",
       "      <th>splitFactor</th>\n",
       "    </tr>\n",
       "    <tr>\n",
       "      <th>symbol</th>\n",
       "      <th>date</th>\n",
       "      <th></th>\n",
       "      <th></th>\n",
       "      <th></th>\n",
       "      <th></th>\n",
       "      <th></th>\n",
       "      <th></th>\n",
       "      <th></th>\n",
       "      <th></th>\n",
       "      <th></th>\n",
       "      <th></th>\n",
       "      <th></th>\n",
       "      <th></th>\n",
       "    </tr>\n",
       "  </thead>\n",
       "  <tbody>\n",
       "    <tr>\n",
       "      <th rowspan=\"5\" valign=\"top\">AAPL</th>\n",
       "      <th>2023-08-28 00:00:00+00:00</th>\n",
       "      <td>180.19</td>\n",
       "      <td>180.59</td>\n",
       "      <td>178.545</td>\n",
       "      <td>180.090</td>\n",
       "      <td>43820697</td>\n",
       "      <td>180.19</td>\n",
       "      <td>180.59</td>\n",
       "      <td>178.545</td>\n",
       "      <td>180.090</td>\n",
       "      <td>43820697</td>\n",
       "      <td>0.0</td>\n",
       "      <td>1.0</td>\n",
       "    </tr>\n",
       "    <tr>\n",
       "      <th>2023-08-29 00:00:00+00:00</th>\n",
       "      <td>184.12</td>\n",
       "      <td>184.90</td>\n",
       "      <td>179.500</td>\n",
       "      <td>179.695</td>\n",
       "      <td>53003948</td>\n",
       "      <td>184.12</td>\n",
       "      <td>184.90</td>\n",
       "      <td>179.500</td>\n",
       "      <td>179.695</td>\n",
       "      <td>53003948</td>\n",
       "      <td>0.0</td>\n",
       "      <td>1.0</td>\n",
       "    </tr>\n",
       "    <tr>\n",
       "      <th>2023-08-30 00:00:00+00:00</th>\n",
       "      <td>187.65</td>\n",
       "      <td>187.85</td>\n",
       "      <td>184.740</td>\n",
       "      <td>184.940</td>\n",
       "      <td>60813888</td>\n",
       "      <td>187.65</td>\n",
       "      <td>187.85</td>\n",
       "      <td>184.740</td>\n",
       "      <td>184.940</td>\n",
       "      <td>60813888</td>\n",
       "      <td>0.0</td>\n",
       "      <td>1.0</td>\n",
       "    </tr>\n",
       "    <tr>\n",
       "      <th>2023-08-31 00:00:00+00:00</th>\n",
       "      <td>187.87</td>\n",
       "      <td>189.12</td>\n",
       "      <td>187.480</td>\n",
       "      <td>187.840</td>\n",
       "      <td>60794467</td>\n",
       "      <td>187.87</td>\n",
       "      <td>189.12</td>\n",
       "      <td>187.480</td>\n",
       "      <td>187.840</td>\n",
       "      <td>60794467</td>\n",
       "      <td>0.0</td>\n",
       "      <td>1.0</td>\n",
       "    </tr>\n",
       "    <tr>\n",
       "      <th>2023-09-01 00:00:00+00:00</th>\n",
       "      <td>189.46</td>\n",
       "      <td>189.92</td>\n",
       "      <td>188.280</td>\n",
       "      <td>189.485</td>\n",
       "      <td>45766503</td>\n",
       "      <td>189.46</td>\n",
       "      <td>189.92</td>\n",
       "      <td>188.280</td>\n",
       "      <td>189.485</td>\n",
       "      <td>45766503</td>\n",
       "      <td>0.0</td>\n",
       "      <td>1.0</td>\n",
       "    </tr>\n",
       "  </tbody>\n",
       "</table>\n",
       "</div>"
      ],
      "text/plain": [
       "                                   close    high      low     open    volume  \\\n",
       "symbol date                                                                    \n",
       "AAPL   2023-08-28 00:00:00+00:00  180.19  180.59  178.545  180.090  43820697   \n",
       "       2023-08-29 00:00:00+00:00  184.12  184.90  179.500  179.695  53003948   \n",
       "       2023-08-30 00:00:00+00:00  187.65  187.85  184.740  184.940  60813888   \n",
       "       2023-08-31 00:00:00+00:00  187.87  189.12  187.480  187.840  60794467   \n",
       "       2023-09-01 00:00:00+00:00  189.46  189.92  188.280  189.485  45766503   \n",
       "\n",
       "                                  adjClose  adjHigh   adjLow  adjOpen  \\\n",
       "symbol date                                                             \n",
       "AAPL   2023-08-28 00:00:00+00:00    180.19   180.59  178.545  180.090   \n",
       "       2023-08-29 00:00:00+00:00    184.12   184.90  179.500  179.695   \n",
       "       2023-08-30 00:00:00+00:00    187.65   187.85  184.740  184.940   \n",
       "       2023-08-31 00:00:00+00:00    187.87   189.12  187.480  187.840   \n",
       "       2023-09-01 00:00:00+00:00    189.46   189.92  188.280  189.485   \n",
       "\n",
       "                                  adjVolume  divCash  splitFactor  \n",
       "symbol date                                                        \n",
       "AAPL   2023-08-28 00:00:00+00:00   43820697      0.0          1.0  \n",
       "       2023-08-29 00:00:00+00:00   53003948      0.0          1.0  \n",
       "       2023-08-30 00:00:00+00:00   60813888      0.0          1.0  \n",
       "       2023-08-31 00:00:00+00:00   60794467      0.0          1.0  \n",
       "       2023-09-01 00:00:00+00:00   45766503      0.0          1.0  "
      ]
     },
     "execution_count": 5,
     "metadata": {},
     "output_type": "execute_result"
    }
   ],
   "source": [
    "df.tail()"
   ]
  },
  {
   "cell_type": "code",
   "execution_count": 6,
   "metadata": {},
   "outputs": [],
   "source": [
    "df1 =  df.reset_index()['close']"
   ]
  },
  {
   "cell_type": "code",
   "execution_count": 7,
   "metadata": {},
   "outputs": [
    {
     "data": {
      "text/plain": [
       "(1256,)"
      ]
     },
     "execution_count": 7,
     "metadata": {},
     "output_type": "execute_result"
    }
   ],
   "source": [
    "df1.shape"
   ]
  },
  {
   "cell_type": "code",
   "execution_count": 8,
   "metadata": {},
   "outputs": [
    {
     "data": {
      "text/plain": [
       "[<matplotlib.lines.Line2D at 0x1d4fdbf73d0>]"
      ]
     },
     "execution_count": 8,
     "metadata": {},
     "output_type": "execute_result"
    },
    {
     "data": {
      "image/png": "[encoded data removed]",
      "text/plain": [
       "<Figure size 640x480 with 1 Axes>"
      ]
     },
     "metadata": {},
     "output_type": "display_data"
    }
   ],
   "source": [
    "import matplotlib.pyplot as plt\n",
    "plt.plot(df1)"
   ]
  },
  {
   "cell_type": "code",
   "execution_count": 9,
   "metadata": {},
   "outputs": [],
   "source": [
    "# Applying MinMax Scaler as LSTM is sensitive to scale of data"
   ]
  },
  {
   "cell_type": "code",
   "execution_count": 10,
   "metadata": {},
   "outputs": [],
   "source": [
    "import numpy as np"
   ]
  },
  {
   "cell_type": "code",
   "execution_count": 11,
   "metadata": {},
   "outputs": [],
   "source": [
    "from sklearn.preprocessing import MinMaxScaler\n",
    "scaler = MinMaxScaler(feature_range=(0,1))\n",
    "df1 = scaler.fit_transform(np.array(df1).reshape(-1,1))"
   ]
  },
  {
   "cell_type": "code",
   "execution_count": 12,
   "metadata": {},
   "outputs": [
    {
     "data": {
      "text/plain": [
       "(1256, 1)"
      ]
     },
     "execution_count": 12,
     "metadata": {},
     "output_type": "execute_result"
    }
   ],
   "source": [
    "df1.shape"
   ]
  },
  {
   "cell_type": "markdown",
   "metadata": {},
   "source": [
    "### Splitting into Train & Test"
   ]
  },
  {
   "cell_type": "code",
   "execution_count": 13,
   "metadata": {},
   "outputs": [],
   "source": [
    "training_size = int(len(df1)*0.65)\n",
    "test_size = len(df1) - training_size\n",
    "train_data, test_data = df1[0:training_size,:], df1[training_size:len(df1),:1]"
   ]
  },
  {
   "cell_type": "code",
   "execution_count": 14,
   "metadata": {},
   "outputs": [],
   "source": [
    "import numpy\n",
    "# convert an array of values into a dataset matrix\n",
    "def create_dataset(dataset, time_step=1):\n",
    "    dataX, dataY = [], []\n",
    "    for i in range(len(dataset)-time_step-1):\n",
    "        a = dataset[i: (i+time_step), 0]   ###i=0, 0,1,2,3-----99   100 \n",
    "        dataX.append(a)\n",
    "        dataY.append(dataset[i + time_step, 0])\n",
    "    return numpy.array(dataX), numpy.array(dataY)"
   ]
  },
  {
   "cell_type": "code",
   "execution_count": 15,
   "metadata": {},
   "outputs": [],
   "source": [
    "time_step = 100\n",
    "X_train, y_train = create_dataset(train_data, time_step)\n",
    "X_test, ytest = create_dataset(test_data, time_step)"
   ]
  },
  {
   "cell_type": "code",
   "execution_count": 16,
   "metadata": {},
   "outputs": [
    {
     "name": "stdout",
     "output_type": "stream",
     "text": [
      "(715, 100)\n",
      "(715,)\n"
     ]
    },
    {
     "data": {
      "text/plain": [
       "(None, None)"
      ]
     },
     "execution_count": 16,
     "metadata": {},
     "output_type": "execute_result"
    }
   ],
   "source": [
    "print(X_train.shape), print(y_train.shape)"
   ]
  },
  {
   "cell_type": "markdown",
   "metadata": {},
   "source": [
    "### Implementing a stacked LSTM Model"
   ]
  },
  {
   "cell_type": "code",
   "execution_count": 17,
   "metadata": {},
   "outputs": [],
   "source": [
    "X_train = X_train.reshape(X_train.shape[0], X_train.shape[1] , 1)\n",
    "X_test = X_test.reshape(X_test.shape[0], X_test.shape[1] , 1)"
   ]
  },
  {
   "cell_type": "code",
   "execution_count": 18,
   "metadata": {},
   "outputs": [],
   "source": [
    "from tensorflow.keras.models import Sequential\n",
    "from tensorflow.keras.layers import Dense\n",
    "from tensorflow.keras.layers import LSTM"
   ]
  },
  {
   "cell_type": "code",
   "execution_count": 19,
   "metadata": {},
   "outputs": [],
   "source": [
    "model = Sequential()\n",
    "model.add(LSTM(50, return_sequences=True, input_shape=(100,1)))\n",
    "model.add(LSTM(50, return_sequences=True))\n",
    "model.add(LSTM(50))\n",
    "model.add(Dense(1))\n",
    "model.compile(loss='mean_squared_error', optimizer='adam')"
   ]
  },
  {
   "cell_type": "code",
   "execution_count": 20,
   "metadata": {},
   "outputs": [
    {
     "name": "stdout",
     "output_type": "stream",
     "text": [
      "Model: \"sequential\"\n",
      "_________________________________________________________________\n",
      " Layer (type)                Output Shape              Param #   \n",
      "=================================================================\n",
      " lstm (LSTM)                 (None, 100, 50)           10400     \n",
      "                                                                 \n",
      " lstm_1 (LSTM)               (None, 100, 50)           20200     \n",
      "                                                                 \n",
      " lstm_2 (LSTM)               (None, 50)                20200     \n",
      "                                                                 \n",
      " dense (Dense)               (None, 1)                 51        \n",
      "                                                                 \n",
      "=================================================================\n",
      "Total params: 50,851\n",
      "Trainable params: 50,851\n",
      "Non-trainable params: 0\n",
      "_________________________________________________________________\n"
     ]
    }
   ],
   "source": [
    "model.summary()"
   ]
  },
  {
   "cell_type": "code",
   "execution_count": 21,
   "metadata": {},
   "outputs": [
    {
     "name": "stdout",
     "output_type": "stream",
     "text": [
      "Epoch 1/100\n",
      "12/12 [==============================] - 21s 589ms/step - loss: 0.0456 - val_loss: 0.0018\n",
      "Epoch 2/100\n",
      "12/12 [==============================] - 3s 271ms/step - loss: 0.0134 - val_loss: 0.0022\n",
      "Epoch 3/100\n",
      "12/12 [==============================] - 3s 256ms/step - loss: 0.0100 - val_loss: 6.6714e-04\n",
      "Epoch 4/100\n",
      "12/12 [==============================] - 3s 273ms/step - loss: 0.0088 - val_loss: 4.1320e-04\n",
      "Epoch 5/100\n",
      "12/12 [==============================] - 3s 263ms/step - loss: 0.0074 - val_loss: 4.1295e-04\n",
      "Epoch 6/100\n",
      "12/12 [==============================] - 3s 255ms/step - loss: 0.0066 - val_loss: 0.0012\n",
      "Epoch 7/100\n",
      "12/12 [==============================] - 3s 259ms/step - loss: 0.0061 - val_loss: 2.9670e-04\n",
      "Epoch 8/100\n",
      "12/12 [==============================] - 3s 255ms/step - loss: 0.0060 - val_loss: 5.4205e-04\n",
      "Epoch 9/100\n",
      "12/12 [==============================] - 3s 252ms/step - loss: 0.0050 - val_loss: 3.3549e-04\n",
      "Epoch 10/100\n",
      "12/12 [==============================] - 3s 273ms/step - loss: 0.0064 - val_loss: 2.9556e-04\n",
      "Epoch 11/100\n",
      "12/12 [==============================] - 4s 303ms/step - loss: 0.0044 - val_loss: 6.6061e-04\n",
      "Epoch 12/100\n",
      "12/12 [==============================] - 4s 323ms/step - loss: 0.0039 - val_loss: 3.3121e-04\n",
      "Epoch 13/100\n",
      "12/12 [==============================] - 3s 282ms/step - loss: 0.0037 - val_loss: 2.8084e-04\n",
      "Epoch 14/100\n",
      "12/12 [==============================] - 4s 296ms/step - loss: 0.0034 - val_loss: 3.6625e-04\n",
      "Epoch 15/100\n",
      "12/12 [==============================] - 3s 281ms/step - loss: 0.0028 - val_loss: 2.4171e-04\n",
      "Epoch 16/100\n",
      "12/12 [==============================] - 3s 266ms/step - loss: 0.0025 - val_loss: 2.3718e-04\n",
      "Epoch 17/100\n",
      "12/12 [==============================] - 3s 274ms/step - loss: 0.0024 - val_loss: 2.6678e-04\n",
      "Epoch 18/100\n",
      "12/12 [==============================] - 4s 300ms/step - loss: 0.0022 - val_loss: 6.1303e-04\n",
      "Epoch 19/100\n",
      "12/12 [==============================] - 3s 279ms/step - loss: 0.0074 - val_loss: 2.8148e-04\n",
      "Epoch 20/100\n",
      "12/12 [==============================] - 3s 269ms/step - loss: 0.0053 - val_loss: 3.2047e-04\n",
      "Epoch 21/100\n",
      "12/12 [==============================] - 3s 262ms/step - loss: 0.0040 - val_loss: 3.5170e-04\n",
      "Epoch 22/100\n",
      "12/12 [==============================] - 3s 264ms/step - loss: 0.0033 - val_loss: 3.2911e-04\n",
      "Epoch 23/100\n",
      "12/12 [==============================] - 3s 262ms/step - loss: 0.0051 - val_loss: 2.9680e-04\n",
      "Epoch 24/100\n",
      "12/12 [==============================] - 3s 265ms/step - loss: 0.0040 - val_loss: 2.3016e-04\n",
      "Epoch 25/100\n",
      "12/12 [==============================] - 3s 263ms/step - loss: 0.0029 - val_loss: 2.7483e-04\n",
      "Epoch 26/100\n",
      "12/12 [==============================] - 3s 264ms/step - loss: 0.0025 - val_loss: 3.0233e-04\n",
      "Epoch 27/100\n",
      "12/12 [==============================] - 3s 265ms/step - loss: 0.0036 - val_loss: 2.5633e-04\n",
      "Epoch 28/100\n",
      "12/12 [==============================] - 3s 276ms/step - loss: 0.0032 - val_loss: 2.2651e-04\n",
      "Epoch 29/100\n",
      "12/12 [==============================] - 3s 263ms/step - loss: 0.0024 - val_loss: 4.1262e-04\n",
      "Epoch 30/100\n",
      "12/12 [==============================] - 3s 264ms/step - loss: 0.0021 - val_loss: 2.3285e-04\n",
      "Epoch 31/100\n",
      "12/12 [==============================] - 3s 264ms/step - loss: 0.0024 - val_loss: 2.4085e-04\n",
      "Epoch 32/100\n",
      "12/12 [==============================] - 3s 273ms/step - loss: 0.0023 - val_loss: 2.7669e-04\n",
      "Epoch 33/100\n",
      "12/12 [==============================] - 3s 272ms/step - loss: 0.0019 - val_loss: 2.3588e-04\n",
      "Epoch 34/100\n",
      "12/12 [==============================] - 3s 279ms/step - loss: 0.0019 - val_loss: 2.2393e-04\n",
      "Epoch 35/100\n",
      "12/12 [==============================] - 3s 263ms/step - loss: 0.0047 - val_loss: 2.8487e-04\n",
      "Epoch 36/100\n",
      "12/12 [==============================] - 3s 274ms/step - loss: 0.0045 - val_loss: 2.3919e-04\n",
      "Epoch 37/100\n",
      "12/12 [==============================] - 3s 271ms/step - loss: 0.0034 - val_loss: 2.1638e-04\n",
      "Epoch 38/100\n",
      "12/12 [==============================] - 4s 313ms/step - loss: 0.0029 - val_loss: 2.2396e-04\n",
      "Epoch 39/100\n",
      "12/12 [==============================] - 4s 310ms/step - loss: 0.0026 - val_loss: 2.2610e-04\n",
      "Epoch 40/100\n",
      "12/12 [==============================] - ETA: 0s - loss: 0.0026"
     ]
    },
    {
     "ename": "KeyboardInterrupt",
     "evalue": "",
     "output_type": "error",
     "traceback": [
      "\u001b[1;31m---------------------------------------------------------------------------\u001b[0m",
      "\u001b[1;31mKeyboardInterrupt\u001b[0m                         Traceback (most recent call last)",
      "Cell \u001b[1;32mIn[21], line 1\u001b[0m\n\u001b[1;32m----> 1\u001b[0m model\u001b[39m.\u001b[39;49mfit(X_train, y_train, validation_data\u001b[39m=\u001b[39;49m(X_test, ytest), epochs\u001b[39m=\u001b[39;49m\u001b[39m100\u001b[39;49m, batch_size\u001b[39m=\u001b[39;49m\u001b[39m64\u001b[39;49m, verbose\u001b[39m=\u001b[39;49m\u001b[39m1\u001b[39;49m)\n",
      "File \u001b[1;32mc:\\Users\\Ayush Pratap Singh\\AppData\\Local\\Programs\\Python\\Python311\\Lib\\site-packages\\keras\\utils\\traceback_utils.py:65\u001b[0m, in \u001b[0;36mfilter_traceback.<locals>.error_handler\u001b[1;34m(*args, **kwargs)\u001b[0m\n\u001b[0;32m     63\u001b[0m filtered_tb \u001b[39m=\u001b[39m \u001b[39mNone\u001b[39;00m\n\u001b[0;32m     64\u001b[0m \u001b[39mtry\u001b[39;00m:\n\u001b[1;32m---> 65\u001b[0m     \u001b[39mreturn\u001b[39;00m fn(\u001b[39m*\u001b[39;49margs, \u001b[39m*\u001b[39;49m\u001b[39m*\u001b[39;49mkwargs)\n\u001b[0;32m     66\u001b[0m \u001b[39mexcept\u001b[39;00m \u001b[39mException\u001b[39;00m \u001b[39mas\u001b[39;00m e:\n\u001b[0;32m     67\u001b[0m     filtered_tb \u001b[39m=\u001b[39m _process_traceback_frames(e\u001b[39m.\u001b[39m__traceback__)\n",
      "File \u001b[1;32mc:\\Users\\Ayush Pratap Singh\\AppData\\Local\\Programs\\Python\\Python311\\Lib\\site-packages\\keras\\engine\\training.py:1729\u001b[0m, in \u001b[0;36mModel.fit\u001b[1;34m(self, x, y, batch_size, epochs, verbose, callbacks, validation_split, validation_data, shuffle, class_weight, sample_weight, initial_epoch, steps_per_epoch, validation_steps, validation_batch_size, validation_freq, max_queue_size, workers, use_multiprocessing)\u001b[0m\n\u001b[0;32m   1714\u001b[0m \u001b[39mif\u001b[39;00m \u001b[39mgetattr\u001b[39m(\u001b[39mself\u001b[39m, \u001b[39m\"\u001b[39m\u001b[39m_eval_data_handler\u001b[39m\u001b[39m\"\u001b[39m, \u001b[39mNone\u001b[39;00m) \u001b[39mis\u001b[39;00m \u001b[39mNone\u001b[39;00m:\n\u001b[0;32m   1715\u001b[0m     \u001b[39mself\u001b[39m\u001b[39m.\u001b[39m_eval_data_handler \u001b[39m=\u001b[39m data_adapter\u001b[39m.\u001b[39mget_data_handler(\n\u001b[0;32m   1716\u001b[0m         x\u001b[39m=\u001b[39mval_x,\n\u001b[0;32m   1717\u001b[0m         y\u001b[39m=\u001b[39mval_y,\n\u001b[1;32m   (...)\u001b[0m\n\u001b[0;32m   1727\u001b[0m         steps_per_execution\u001b[39m=\u001b[39m\u001b[39mself\u001b[39m\u001b[39m.\u001b[39m_steps_per_execution,\n\u001b[0;32m   1728\u001b[0m     )\n\u001b[1;32m-> 1729\u001b[0m val_logs \u001b[39m=\u001b[39m \u001b[39mself\u001b[39;49m\u001b[39m.\u001b[39;49mevaluate(\n\u001b[0;32m   1730\u001b[0m     x\u001b[39m=\u001b[39;49mval_x,\n\u001b[0;32m   1731\u001b[0m     y\u001b[39m=\u001b[39;49mval_y,\n\u001b[0;32m   1732\u001b[0m     sample_weight\u001b[39m=\u001b[39;49mval_sample_weight,\n\u001b[0;32m   1733\u001b[0m     batch_size\u001b[39m=\u001b[39;49mvalidation_batch_size \u001b[39mor\u001b[39;49;00m batch_size,\n\u001b[0;32m   1734\u001b[0m     steps\u001b[39m=\u001b[39;49mvalidation_steps,\n\u001b[0;32m   1735\u001b[0m     callbacks\u001b[39m=\u001b[39;49mcallbacks,\n\u001b[0;32m   1736\u001b[0m     max_queue_size\u001b[39m=\u001b[39;49mmax_queue_size,\n\u001b[0;32m   1737\u001b[0m     workers\u001b[39m=\u001b[39;49mworkers,\n\u001b[0;32m   1738\u001b[0m     use_multiprocessing\u001b[39m=\u001b[39;49muse_multiprocessing,\n\u001b[0;32m   1739\u001b[0m     return_dict\u001b[39m=\u001b[39;49m\u001b[39mTrue\u001b[39;49;00m,\n\u001b[0;32m   1740\u001b[0m     _use_cached_eval_dataset\u001b[39m=\u001b[39;49m\u001b[39mTrue\u001b[39;49;00m,\n\u001b[0;32m   1741\u001b[0m )\n\u001b[0;32m   1742\u001b[0m val_logs \u001b[39m=\u001b[39m {\n\u001b[0;32m   1743\u001b[0m     \u001b[39m\"\u001b[39m\u001b[39mval_\u001b[39m\u001b[39m\"\u001b[39m \u001b[39m+\u001b[39m name: val \u001b[39mfor\u001b[39;00m name, val \u001b[39min\u001b[39;00m val_logs\u001b[39m.\u001b[39mitems()\n\u001b[0;32m   1744\u001b[0m }\n\u001b[0;32m   1745\u001b[0m epoch_logs\u001b[39m.\u001b[39mupdate(val_logs)\n",
      "File \u001b[1;32mc:\\Users\\Ayush Pratap Singh\\AppData\\Local\\Programs\\Python\\Python311\\Lib\\site-packages\\keras\\utils\\traceback_utils.py:65\u001b[0m, in \u001b[0;36mfilter_traceback.<locals>.error_handler\u001b[1;34m(*args, **kwargs)\u001b[0m\n\u001b[0;32m     63\u001b[0m filtered_tb \u001b[39m=\u001b[39m \u001b[39mNone\u001b[39;00m\n\u001b[0;32m     64\u001b[0m \u001b[39mtry\u001b[39;00m:\n\u001b[1;32m---> 65\u001b[0m     \u001b[39mreturn\u001b[39;00m fn(\u001b[39m*\u001b[39;49margs, \u001b[39m*\u001b[39;49m\u001b[39m*\u001b[39;49mkwargs)\n\u001b[0;32m     66\u001b[0m \u001b[39mexcept\u001b[39;00m \u001b[39mException\u001b[39;00m \u001b[39mas\u001b[39;00m e:\n\u001b[0;32m     67\u001b[0m     filtered_tb \u001b[39m=\u001b[39m _process_traceback_frames(e\u001b[39m.\u001b[39m__traceback__)\n",
      "File \u001b[1;32mc:\\Users\\Ayush Pratap Singh\\AppData\\Local\\Programs\\Python\\Python311\\Lib\\site-packages\\keras\\engine\\training.py:2072\u001b[0m, in \u001b[0;36mModel.evaluate\u001b[1;34m(self, x, y, batch_size, verbose, sample_weight, steps, callbacks, max_queue_size, workers, use_multiprocessing, return_dict, **kwargs)\u001b[0m\n\u001b[0;32m   2068\u001b[0m \u001b[39mwith\u001b[39;00m tf\u001b[39m.\u001b[39mprofiler\u001b[39m.\u001b[39mexperimental\u001b[39m.\u001b[39mTrace(\n\u001b[0;32m   2069\u001b[0m     \u001b[39m\"\u001b[39m\u001b[39mtest\u001b[39m\u001b[39m\"\u001b[39m, step_num\u001b[39m=\u001b[39mstep, _r\u001b[39m=\u001b[39m\u001b[39m1\u001b[39m\n\u001b[0;32m   2070\u001b[0m ):\n\u001b[0;32m   2071\u001b[0m     callbacks\u001b[39m.\u001b[39mon_test_batch_begin(step)\n\u001b[1;32m-> 2072\u001b[0m     tmp_logs \u001b[39m=\u001b[39m \u001b[39mself\u001b[39;49m\u001b[39m.\u001b[39;49mtest_function(iterator)\n\u001b[0;32m   2073\u001b[0m     \u001b[39mif\u001b[39;00m data_handler\u001b[39m.\u001b[39mshould_sync:\n\u001b[0;32m   2074\u001b[0m         context\u001b[39m.\u001b[39masync_wait()\n",
      "File \u001b[1;32mc:\\Users\\Ayush Pratap Singh\\AppData\\Local\\Programs\\Python\\Python311\\Lib\\site-packages\\tensorflow\\python\\util\\traceback_utils.py:150\u001b[0m, in \u001b[0;36mfilter_traceback.<locals>.error_handler\u001b[1;34m(*args, **kwargs)\u001b[0m\n\u001b[0;32m    148\u001b[0m filtered_tb \u001b[39m=\u001b[39m \u001b[39mNone\u001b[39;00m\n\u001b[0;32m    149\u001b[0m \u001b[39mtry\u001b[39;00m:\n\u001b[1;32m--> 150\u001b[0m   \u001b[39mreturn\u001b[39;00m fn(\u001b[39m*\u001b[39;49margs, \u001b[39m*\u001b[39;49m\u001b[39m*\u001b[39;49mkwargs)\n\u001b[0;32m    151\u001b[0m \u001b[39mexcept\u001b[39;00m \u001b[39mException\u001b[39;00m \u001b[39mas\u001b[39;00m e:\n\u001b[0;32m    152\u001b[0m   filtered_tb \u001b[39m=\u001b[39m _process_traceback_frames(e\u001b[39m.\u001b[39m__traceback__)\n",
      "File \u001b[1;32mc:\\Users\\Ayush Pratap Singh\\AppData\\Local\\Programs\\Python\\Python311\\Lib\\site-packages\\tensorflow\\python\\eager\\polymorphic_function\\polymorphic_function.py:894\u001b[0m, in \u001b[0;36mFunction.__call__\u001b[1;34m(self, *args, **kwds)\u001b[0m\n\u001b[0;32m    891\u001b[0m compiler \u001b[39m=\u001b[39m \u001b[39m\"\u001b[39m\u001b[39mxla\u001b[39m\u001b[39m\"\u001b[39m \u001b[39mif\u001b[39;00m \u001b[39mself\u001b[39m\u001b[39m.\u001b[39m_jit_compile \u001b[39melse\u001b[39;00m \u001b[39m\"\u001b[39m\u001b[39mnonXla\u001b[39m\u001b[39m\"\u001b[39m\n\u001b[0;32m    893\u001b[0m \u001b[39mwith\u001b[39;00m OptionalXlaContext(\u001b[39mself\u001b[39m\u001b[39m.\u001b[39m_jit_compile):\n\u001b[1;32m--> 894\u001b[0m   result \u001b[39m=\u001b[39m \u001b[39mself\u001b[39;49m\u001b[39m.\u001b[39;49m_call(\u001b[39m*\u001b[39;49margs, \u001b[39m*\u001b[39;49m\u001b[39m*\u001b[39;49mkwds)\n\u001b[0;32m    896\u001b[0m new_tracing_count \u001b[39m=\u001b[39m \u001b[39mself\u001b[39m\u001b[39m.\u001b[39mexperimental_get_tracing_count()\n\u001b[0;32m    897\u001b[0m without_tracing \u001b[39m=\u001b[39m (tracing_count \u001b[39m==\u001b[39m new_tracing_count)\n",
      "File \u001b[1;32mc:\\Users\\Ayush Pratap Singh\\AppData\\Local\\Programs\\Python\\Python311\\Lib\\site-packages\\tensorflow\\python\\eager\\polymorphic_function\\polymorphic_function.py:933\u001b[0m, in \u001b[0;36mFunction._call\u001b[1;34m(self, *args, **kwds)\u001b[0m\n\u001b[0;32m    930\u001b[0m \u001b[39mself\u001b[39m\u001b[39m.\u001b[39m_lock\u001b[39m.\u001b[39mrelease()\n\u001b[0;32m    931\u001b[0m \u001b[39m# In this case we have not created variables on the first call. So we can\u001b[39;00m\n\u001b[0;32m    932\u001b[0m \u001b[39m# run the first trace but we should fail if variables are created.\u001b[39;00m\n\u001b[1;32m--> 933\u001b[0m results \u001b[39m=\u001b[39m \u001b[39mself\u001b[39;49m\u001b[39m.\u001b[39;49m_variable_creation_fn(\u001b[39m*\u001b[39;49margs, \u001b[39m*\u001b[39;49m\u001b[39m*\u001b[39;49mkwds)\n\u001b[0;32m    934\u001b[0m \u001b[39mif\u001b[39;00m \u001b[39mself\u001b[39m\u001b[39m.\u001b[39m_created_variables \u001b[39mand\u001b[39;00m \u001b[39mnot\u001b[39;00m ALLOW_DYNAMIC_VARIABLE_CREATION:\n\u001b[0;32m    935\u001b[0m   \u001b[39mraise\u001b[39;00m \u001b[39mValueError\u001b[39;00m(\u001b[39m\"\u001b[39m\u001b[39mCreating variables on a non-first call to a function\u001b[39m\u001b[39m\"\u001b[39m\n\u001b[0;32m    936\u001b[0m                    \u001b[39m\"\u001b[39m\u001b[39m decorated with tf.function.\u001b[39m\u001b[39m\"\u001b[39m)\n",
      "File \u001b[1;32mc:\\Users\\Ayush Pratap Singh\\AppData\\Local\\Programs\\Python\\Python311\\Lib\\site-packages\\tensorflow\\python\\eager\\polymorphic_function\\tracing_compiler.py:143\u001b[0m, in \u001b[0;36mTracingCompiler.__call__\u001b[1;34m(self, *args, **kwargs)\u001b[0m\n\u001b[0;32m    140\u001b[0m \u001b[39mwith\u001b[39;00m \u001b[39mself\u001b[39m\u001b[39m.\u001b[39m_lock:\n\u001b[0;32m    141\u001b[0m   (concrete_function,\n\u001b[0;32m    142\u001b[0m    filtered_flat_args) \u001b[39m=\u001b[39m \u001b[39mself\u001b[39m\u001b[39m.\u001b[39m_maybe_define_function(args, kwargs)\n\u001b[1;32m--> 143\u001b[0m \u001b[39mreturn\u001b[39;00m concrete_function\u001b[39m.\u001b[39;49m_call_flat(\n\u001b[0;32m    144\u001b[0m     filtered_flat_args, captured_inputs\u001b[39m=\u001b[39;49mconcrete_function\u001b[39m.\u001b[39;49mcaptured_inputs)\n",
      "File \u001b[1;32mc:\\Users\\Ayush Pratap Singh\\AppData\\Local\\Programs\\Python\\Python311\\Lib\\site-packages\\tensorflow\\python\\eager\\polymorphic_function\\monomorphic_function.py:1757\u001b[0m, in \u001b[0;36mConcreteFunction._call_flat\u001b[1;34m(self, args, captured_inputs, cancellation_manager)\u001b[0m\n\u001b[0;32m   1753\u001b[0m possible_gradient_type \u001b[39m=\u001b[39m gradients_util\u001b[39m.\u001b[39mPossibleTapeGradientTypes(args)\n\u001b[0;32m   1754\u001b[0m \u001b[39mif\u001b[39;00m (possible_gradient_type \u001b[39m==\u001b[39m gradients_util\u001b[39m.\u001b[39mPOSSIBLE_GRADIENT_TYPES_NONE\n\u001b[0;32m   1755\u001b[0m     \u001b[39mand\u001b[39;00m executing_eagerly):\n\u001b[0;32m   1756\u001b[0m   \u001b[39m# No tape is watching; skip to running the function.\u001b[39;00m\n\u001b[1;32m-> 1757\u001b[0m   \u001b[39mreturn\u001b[39;00m \u001b[39mself\u001b[39m\u001b[39m.\u001b[39m_build_call_outputs(\u001b[39mself\u001b[39;49m\u001b[39m.\u001b[39;49m_inference_function\u001b[39m.\u001b[39;49mcall(\n\u001b[0;32m   1758\u001b[0m       ctx, args, cancellation_manager\u001b[39m=\u001b[39;49mcancellation_manager))\n\u001b[0;32m   1759\u001b[0m forward_backward \u001b[39m=\u001b[39m \u001b[39mself\u001b[39m\u001b[39m.\u001b[39m_select_forward_and_backward_functions(\n\u001b[0;32m   1760\u001b[0m     args,\n\u001b[0;32m   1761\u001b[0m     possible_gradient_type,\n\u001b[0;32m   1762\u001b[0m     executing_eagerly)\n\u001b[0;32m   1763\u001b[0m forward_function, args_with_tangents \u001b[39m=\u001b[39m forward_backward\u001b[39m.\u001b[39mforward()\n",
      "File \u001b[1;32mc:\\Users\\Ayush Pratap Singh\\AppData\\Local\\Programs\\Python\\Python311\\Lib\\site-packages\\tensorflow\\python\\eager\\polymorphic_function\\monomorphic_function.py:381\u001b[0m, in \u001b[0;36m_EagerDefinedFunction.call\u001b[1;34m(self, ctx, args, cancellation_manager)\u001b[0m\n\u001b[0;32m    379\u001b[0m \u001b[39mwith\u001b[39;00m _InterpolateFunctionError(\u001b[39mself\u001b[39m):\n\u001b[0;32m    380\u001b[0m   \u001b[39mif\u001b[39;00m cancellation_manager \u001b[39mis\u001b[39;00m \u001b[39mNone\u001b[39;00m:\n\u001b[1;32m--> 381\u001b[0m     outputs \u001b[39m=\u001b[39m execute\u001b[39m.\u001b[39;49mexecute(\n\u001b[0;32m    382\u001b[0m         \u001b[39mstr\u001b[39;49m(\u001b[39mself\u001b[39;49m\u001b[39m.\u001b[39;49msignature\u001b[39m.\u001b[39;49mname),\n\u001b[0;32m    383\u001b[0m         num_outputs\u001b[39m=\u001b[39;49m\u001b[39mself\u001b[39;49m\u001b[39m.\u001b[39;49m_num_outputs,\n\u001b[0;32m    384\u001b[0m         inputs\u001b[39m=\u001b[39;49margs,\n\u001b[0;32m    385\u001b[0m         attrs\u001b[39m=\u001b[39;49mattrs,\n\u001b[0;32m    386\u001b[0m         ctx\u001b[39m=\u001b[39;49mctx)\n\u001b[0;32m    387\u001b[0m   \u001b[39melse\u001b[39;00m:\n\u001b[0;32m    388\u001b[0m     outputs \u001b[39m=\u001b[39m execute\u001b[39m.\u001b[39mexecute_with_cancellation(\n\u001b[0;32m    389\u001b[0m         \u001b[39mstr\u001b[39m(\u001b[39mself\u001b[39m\u001b[39m.\u001b[39msignature\u001b[39m.\u001b[39mname),\n\u001b[0;32m    390\u001b[0m         num_outputs\u001b[39m=\u001b[39m\u001b[39mself\u001b[39m\u001b[39m.\u001b[39m_num_outputs,\n\u001b[1;32m   (...)\u001b[0m\n\u001b[0;32m    393\u001b[0m         ctx\u001b[39m=\u001b[39mctx,\n\u001b[0;32m    394\u001b[0m         cancellation_manager\u001b[39m=\u001b[39mcancellation_manager)\n",
      "File \u001b[1;32mc:\\Users\\Ayush Pratap Singh\\AppData\\Local\\Programs\\Python\\Python311\\Lib\\site-packages\\tensorflow\\python\\eager\\execute.py:52\u001b[0m, in \u001b[0;36mquick_execute\u001b[1;34m(op_name, num_outputs, inputs, attrs, ctx, name)\u001b[0m\n\u001b[0;32m     50\u001b[0m \u001b[39mtry\u001b[39;00m:\n\u001b[0;32m     51\u001b[0m   ctx\u001b[39m.\u001b[39mensure_initialized()\n\u001b[1;32m---> 52\u001b[0m   tensors \u001b[39m=\u001b[39m pywrap_tfe\u001b[39m.\u001b[39;49mTFE_Py_Execute(ctx\u001b[39m.\u001b[39;49m_handle, device_name, op_name,\n\u001b[0;32m     53\u001b[0m                                       inputs, attrs, num_outputs)\n\u001b[0;32m     54\u001b[0m \u001b[39mexcept\u001b[39;00m core\u001b[39m.\u001b[39m_NotOkStatusException \u001b[39mas\u001b[39;00m e:\n\u001b[0;32m     55\u001b[0m   \u001b[39mif\u001b[39;00m name \u001b[39mis\u001b[39;00m \u001b[39mnot\u001b[39;00m \u001b[39mNone\u001b[39;00m:\n",
      "\u001b[1;31mKeyboardInterrupt\u001b[0m: "
     ]
    }
   ],
   "source": [
    "model.fit(X_train, y_train, validation_data=(X_test, ytest), epochs=100, batch_size=64, verbose=1)"
   ]
  },
  {
   "cell_type": "code",
   "execution_count": null,
   "metadata": {},
   "outputs": [],
   "source": [
    "import tensorflow as tf"
   ]
  },
  {
   "cell_type": "markdown",
   "metadata": {},
   "source": [
    "### Prediction & Performance Metrics"
   ]
  },
  {
   "cell_type": "code",
   "execution_count": null,
   "metadata": {},
   "outputs": [
    {
     "name": "stdout",
     "output_type": "stream",
     "text": [
      "23/23 [==============================] - 6s 73ms/step\n",
      "11/11 [==============================] - 1s 66ms/step\n"
     ]
    }
   ],
   "source": [
    "train_predict = model.predict(X_train)\n",
    "test_predict = model.predict(X_test)"
   ]
  },
  {
   "cell_type": "code",
   "execution_count": null,
   "metadata": {},
   "outputs": [],
   "source": [
    "# Transformback to original form\n",
    "train_predict = scaler.inverse_transform(train_predict)\n",
    "test_predict = scaler.inverse_transform(test_predict)"
   ]
  },
  {
   "cell_type": "code",
   "execution_count": null,
   "metadata": {},
   "outputs": [
    {
     "data": {
      "text/plain": [
       "216.2903597148184"
      ]
     },
     "execution_count": 39,
     "metadata": {},
     "output_type": "execute_result"
    }
   ],
   "source": [
    "# Calculate RMSE performance metrics for train data\n",
    "import math\n",
    "from sklearn.metrics import mean_squared_error\n",
    "math.sqrt(mean_squared_error(y_train, train_predict))"
   ]
  },
  {
   "cell_type": "code",
   "execution_count": null,
   "metadata": {},
   "outputs": [
    {
     "data": {
      "text/plain": [
       "163.0134274223219"
      ]
     },
     "execution_count": 40,
     "metadata": {},
     "output_type": "execute_result"
    }
   ],
   "source": [
    "# Calculate RMSE performance metrics for test data\n",
    "math.sqrt(mean_squared_error(ytest, test_predict))"
   ]
  },
  {
   "cell_type": "code",
   "execution_count": null,
   "metadata": {},
   "outputs": [
    {
     "data": {
      "image/png": "[encoded data removed]",
      "text/plain": [
       "<Figure size 640x480 with 1 Axes>"
      ]
     },
     "metadata": {},
     "output_type": "display_data"
    }
   ],
   "source": [
    "# Plotting the results\n",
    "# Shift train predictions for plotting\n",
    "look_back=100\n",
    "trainPredictPlot = numpy.empty_like(df1)\n",
    "trainPredictPlot[:, :] = np.nan\n",
    "trainPredictPlot[look_back:len(train_predict)+look_back, :] = train_predict\n",
    "# Shift test predictions for plotting\n",
    "testPredictPlot = numpy.empty_like(df1)\n",
    "testPredictPlot[:, :] = numpy.nan\n",
    "testPredictPlot[len(train_predict)+(look_back*2)+1:len(df1)-1, :] = test_predict\n",
    "# Plot baseline and predictions\n",
    "plt.plot(scaler.inverse_transform(df1))\n",
    "plt.plot(trainPredictPlot)\n",
    "plt.plot(testPredictPlot)\n",
    "plt.show()\n"
   ]
  },
  {
   "cell_type": "markdown",
   "metadata": {},
   "source": [
    "### Predicting The Future 30 Days Values"
   ]
  },
  {
   "cell_type": "code",
   "execution_count": null,
   "metadata": {},
   "outputs": [
    {
     "data": {
      "text/plain": [
       "441"
      ]
     },
     "execution_count": 42,
     "metadata": {},
     "output_type": "execute_result"
    }
   ],
   "source": [
    "len(test_data)"
   ]
  },
  {
   "cell_type": "code",
   "execution_count": null,
   "metadata": {},
   "outputs": [
    {
     "data": {
      "text/plain": [
       "(1, 100)"
      ]
     },
     "execution_count": 45,
     "metadata": {},
     "output_type": "execute_result"
    }
   ],
   "source": [
    "x_input = test_data[341:].reshape(1,-1)\n",
    "x_input.shape"
   ]
  },
  {
   "cell_type": "code",
   "execution_count": null,
   "metadata": {},
   "outputs": [],
   "source": [
    "temp_input = list(x_input)\n",
    "temp_input = temp_input[0].tolist()"
   ]
  },
  {
   "cell_type": "code",
   "execution_count": null,
   "metadata": {},
   "outputs": [
    {
     "data": {
      "text/plain": [
       "[0.14725109580463364,\n",
       " 0.14256731371321218,\n",
       " 0.14482154038822787,\n",
       " 0.13823418910457103,\n",
       " 0.13515341264871633,\n",
       " 0.1334001252348152,\n",
       " 0.14707576706324355,\n",
       " 0.14619912335629304,\n",
       " 0.14624921728240442,\n",
       " 0.14935504070131495,\n",
       " 0.15226048841577955,\n",
       " 0.14980588603631806,\n",
       " 0.14572323105823415,\n",
       " 0.14649968691296178,\n",
       " 0.14259236067626796,\n",
       " 0.14256731371321218,\n",
       " 0.15421415153412643,\n",
       " 0.15739511584220411,\n",
       " 0.15716969317470253,\n",
       " 0.1545397620538509,\n",
       " 0.15180964308077638,\n",
       " 0.1476518472135253,\n",
       " 0.16713838447088286,\n",
       " 0.16696305572949277,\n",
       " 0.16262993112085156,\n",
       " 0.16710081402629928,\n",
       " 0.16758922980588598,\n",
       " 0.16463368816530988,\n",
       " 0.1633813400125234,\n",
       " 0.1633813400125234,\n",
       " 0.16493425172197868,\n",
       " 0.17084533500313087,\n",
       " 0.17112085159674384,\n",
       " 0.1687163431433938,\n",
       " 0.16210394489668123,\n",
       " 0.16280525986224165,\n",
       " 0.1656856606136506,\n",
       " 0.17179711959924854,\n",
       " 0.17648090169067,\n",
       " 0.17635566687539134,\n",
       " 0.1834690043832185,\n",
       " 0.1856230432060112,\n",
       " 0.18219160926737632,\n",
       " 0.18126487163431432,\n",
       " 0.1777833437695679,\n",
       " 0.18467125860989347,\n",
       " 0.18564809016906697,\n",
       " 0.19273638071383836,\n",
       " 0.1915341264871634,\n",
       " 0.19313713212273004,\n",
       " 0.19829680651221032,\n",
       " 0.1955666875391358,\n",
       " 0.1957921102066374,\n",
       " 0.1931621790857858,\n",
       " 0.2007764558547276,\n",
       " 0.19997495303694424,\n",
       " 0.19644333124608637,\n",
       " 0.2034314339386349,\n",
       " 0.2064120225422667,\n",
       " 0.2072636192861615,\n",
       " 0.21823418910457104,\n",
       " 0.21445209768315587,\n",
       " 0.21162179085785848,\n",
       " 0.21282404508453345,\n",
       " 0.20999373825923606,\n",
       " 0.20480901690670006,\n",
       " 0.20348152786474638,\n",
       " 0.20771446462116466,\n",
       " 0.20964308077645577,\n",
       " 0.21001878522229173,\n",
       " 0.21828428303068248,\n",
       " 0.2176330619912335,\n",
       " 0.22106449592986843,\n",
       " 0.21613024420788973,\n",
       " 0.21314965560425791,\n",
       " 0.215178459611772,\n",
       " 0.21735754539762048,\n",
       " 0.21956167814652466,\n",
       " 0.21635566687539132,\n",
       " 0.22289292423293672,\n",
       " 0.22444583594239192,\n",
       " 0.22232936756418276,\n",
       " 0.21475266123982467,\n",
       " 0.21122103944896675,\n",
       " 0.1882279273638071,\n",
       " 0.18036318096430803,\n",
       " 0.18274264245460237,\n",
       " 0.1787100814026299,\n",
       " 0.17815904821540385,\n",
       " 0.17770820288040068,\n",
       " 0.18189104571070758,\n",
       " 0.1768566061365059,\n",
       " 0.1746524733876017,\n",
       " 0.16821540388227924,\n",
       " 0.16944270507200998,\n",
       " 0.17282404508453347,\n",
       " 0.17630557294927984,\n",
       " 0.18604884157795865,\n",
       " 0.17417658108954281,\n",
       " 0.17976205385097055]"
      ]
     },
     "execution_count": 47,
     "metadata": {},
     "output_type": "execute_result"
    }
   ],
   "source": [
    "temp_input"
   ]
  },
  {
   "cell_type": "code",
   "execution_count": null,
   "metadata": {},
   "outputs": [
    {
     "name": "stdout",
     "output_type": "stream",
     "text": [
      "[0.18162958]\n",
      "101\n",
      "1 day input [0.14256731 0.14482154 0.13823419 0.13515341 0.13340013 0.14707577\n",
      " 0.14619912 0.14624922 0.14935504 0.15226049 0.14980589 0.14572323\n",
      " 0.14649969 0.14259236 0.14256731 0.15421415 0.15739512 0.15716969\n",
      " 0.15453976 0.15180964 0.14765185 0.16713838 0.16696306 0.16262993\n",
      " 0.16710081 0.16758923 0.16463369 0.16338134 0.16338134 0.16493425\n",
      " 0.17084534 0.17112085 0.16871634 0.16210394 0.16280526 0.16568566\n",
      " 0.17179712 0.1764809  0.17635567 0.183469   0.18562304 0.18219161\n",
      " 0.18126487 0.17778334 0.18467126 0.18564809 0.19273638 0.19153413\n",
      " 0.19313713 0.19829681 0.19556669 0.19579211 0.19316218 0.20077646\n",
      " 0.19997495 0.19644333 0.20343143 0.20641202 0.20726362 0.21823419\n",
      " 0.2144521  0.21162179 0.21282405 0.20999374 0.20480902 0.20348153\n",
      " 0.20771446 0.20964308 0.21001879 0.21828428 0.21763306 0.2210645\n",
      " 0.21613024 0.21314966 0.21517846 0.21735755 0.21956168 0.21635567\n",
      " 0.22289292 0.22444584 0.22232937 0.21475266 0.21122104 0.18822793\n",
      " 0.18036318 0.18274264 0.17871008 0.17815905 0.1777082  0.18189105\n",
      " 0.17685661 0.17465247 0.1682154  0.16944271 0.17282405 0.17630557\n",
      " 0.18604884 0.17417658 0.17976205 0.18162958]\n",
      "1 day output [[0.18279342]]\n",
      "2 day input [0.14482154 0.13823419 0.13515341 0.13340013 0.14707577 0.14619912\n",
      " 0.14624922 0.14935504 0.15226049 0.14980589 0.14572323 0.14649969\n",
      " 0.14259236 0.14256731 0.15421415 0.15739512 0.15716969 0.15453976\n",
      " 0.15180964 0.14765185 0.16713838 0.16696306 0.16262993 0.16710081\n",
      " 0.16758923 0.16463369 0.16338134 0.16338134 0.16493425 0.17084534\n",
      " 0.17112085 0.16871634 0.16210394 0.16280526 0.16568566 0.17179712\n",
      " 0.1764809  0.17635567 0.183469   0.18562304 0.18219161 0.18126487\n",
      " 0.17778334 0.18467126 0.18564809 0.19273638 0.19153413 0.19313713\n",
      " 0.19829681 0.19556669 0.19579211 0.19316218 0.20077646 0.19997495\n",
      " 0.19644333 0.20343143 0.20641202 0.20726362 0.21823419 0.2144521\n",
      " 0.21162179 0.21282405 0.20999374 0.20480902 0.20348153 0.20771446\n",
      " 0.20964308 0.21001879 0.21828428 0.21763306 0.2210645  0.21613024\n",
      " 0.21314966 0.21517846 0.21735755 0.21956168 0.21635567 0.22289292\n",
      " 0.22444584 0.22232937 0.21475266 0.21122104 0.18822793 0.18036318\n",
      " 0.18274264 0.17871008 0.17815905 0.1777082  0.18189105 0.17685661\n",
      " 0.17465247 0.1682154  0.16944271 0.17282405 0.17630557 0.18604884\n",
      " 0.17417658 0.17976205 0.18162958 0.18279342]\n",
      "2 day output [[0.18425934]]\n",
      "3 day input [0.13823419 0.13515341 0.13340013 0.14707577 0.14619912 0.14624922\n",
      " 0.14935504 0.15226049 0.14980589 0.14572323 0.14649969 0.14259236\n",
      " 0.14256731 0.15421415 0.15739512 0.15716969 0.15453976 0.15180964\n",
      " 0.14765185 0.16713838 0.16696306 0.16262993 0.16710081 0.16758923\n",
      " 0.16463369 0.16338134 0.16338134 0.16493425 0.17084534 0.17112085\n",
      " 0.16871634 0.16210394 0.16280526 0.16568566 0.17179712 0.1764809\n",
      " 0.17635567 0.183469   0.18562304 0.18219161 0.18126487 0.17778334\n",
      " 0.18467126 0.18564809 0.19273638 0.19153413 0.19313713 0.19829681\n",
      " 0.19556669 0.19579211 0.19316218 0.20077646 0.19997495 0.19644333\n",
      " 0.20343143 0.20641202 0.20726362 0.21823419 0.2144521  0.21162179\n",
      " 0.21282405 0.20999374 0.20480902 0.20348153 0.20771446 0.20964308\n",
      " 0.21001879 0.21828428 0.21763306 0.2210645  0.21613024 0.21314966\n",
      " 0.21517846 0.21735755 0.21956168 0.21635567 0.22289292 0.22444584\n",
      " 0.22232937 0.21475266 0.21122104 0.18822793 0.18036318 0.18274264\n",
      " 0.17871008 0.17815905 0.1777082  0.18189105 0.17685661 0.17465247\n",
      " 0.1682154  0.16944271 0.17282405 0.17630557 0.18604884 0.17417658\n",
      " 0.17976205 0.18162958 0.18279342 0.18425934]\n",
      "3 day output [[0.18592505]]\n",
      "4 day input [0.13515341 0.13340013 0.14707577 0.14619912 0.14624922 0.14935504\n",
      " 0.15226049 0.14980589 0.14572323 0.14649969 0.14259236 0.14256731\n",
      " 0.15421415 0.15739512 0.15716969 0.15453976 0.15180964 0.14765185\n",
      " 0.16713838 0.16696306 0.16262993 0.16710081 0.16758923 0.16463369\n",
      " 0.16338134 0.16338134 0.16493425 0.17084534 0.17112085 0.16871634\n",
      " 0.16210394 0.16280526 0.16568566 0.17179712 0.1764809  0.17635567\n",
      " 0.183469   0.18562304 0.18219161 0.18126487 0.17778334 0.18467126\n",
      " 0.18564809 0.19273638 0.19153413 0.19313713 0.19829681 0.19556669\n",
      " 0.19579211 0.19316218 0.20077646 0.19997495 0.19644333 0.20343143\n",
      " 0.20641202 0.20726362 0.21823419 0.2144521  0.21162179 0.21282405\n",
      " 0.20999374 0.20480902 0.20348153 0.20771446 0.20964308 0.21001879\n",
      " 0.21828428 0.21763306 0.2210645  0.21613024 0.21314966 0.21517846\n",
      " 0.21735755 0.21956168 0.21635567 0.22289292 0.22444584 0.22232937\n",
      " 0.21475266 0.21122104 0.18822793 0.18036318 0.18274264 0.17871008\n",
      " 0.17815905 0.1777082  0.18189105 0.17685661 0.17465247 0.1682154\n",
      " 0.16944271 0.17282405 0.17630557 0.18604884 0.17417658 0.17976205\n",
      " 0.18162958 0.18279342 0.18425934 0.18592505]\n",
      "4 day output [[0.18770622]]\n",
      "5 day input [0.13340013 0.14707577 0.14619912 0.14624922 0.14935504 0.15226049\n",
      " 0.14980589 0.14572323 0.14649969 0.14259236 0.14256731 0.15421415\n",
      " 0.15739512 0.15716969 0.15453976 0.15180964 0.14765185 0.16713838\n",
      " 0.16696306 0.16262993 0.16710081 0.16758923 0.16463369 0.16338134\n",
      " 0.16338134 0.16493425 0.17084534 0.17112085 0.16871634 0.16210394\n",
      " 0.16280526 0.16568566 0.17179712 0.1764809  0.17635567 0.183469\n",
      " 0.18562304 0.18219161 0.18126487 0.17778334 0.18467126 0.18564809\n",
      " 0.19273638 0.19153413 0.19313713 0.19829681 0.19556669 0.19579211\n",
      " 0.19316218 0.20077646 0.19997495 0.19644333 0.20343143 0.20641202\n",
      " 0.20726362 0.21823419 0.2144521  0.21162179 0.21282405 0.20999374\n",
      " 0.20480902 0.20348153 0.20771446 0.20964308 0.21001879 0.21828428\n",
      " 0.21763306 0.2210645  0.21613024 0.21314966 0.21517846 0.21735755\n",
      " 0.21956168 0.21635567 0.22289292 0.22444584 0.22232937 0.21475266\n",
      " 0.21122104 0.18822793 0.18036318 0.18274264 0.17871008 0.17815905\n",
      " 0.1777082  0.18189105 0.17685661 0.17465247 0.1682154  0.16944271\n",
      " 0.17282405 0.17630557 0.18604884 0.17417658 0.17976205 0.18162958\n",
      " 0.18279342 0.18425934 0.18592505 0.18770622]\n",
      "5 day output [[0.18953833]]\n",
      "6 day input [0.14707577 0.14619912 0.14624922 0.14935504 0.15226049 0.14980589\n",
      " 0.14572323 0.14649969 0.14259236 0.14256731 0.15421415 0.15739512\n",
      " 0.15716969 0.15453976 0.15180964 0.14765185 0.16713838 0.16696306\n",
      " 0.16262993 0.16710081 0.16758923 0.16463369 0.16338134 0.16338134\n",
      " 0.16493425 0.17084534 0.17112085 0.16871634 0.16210394 0.16280526\n",
      " 0.16568566 0.17179712 0.1764809  0.17635567 0.183469   0.18562304\n",
      " 0.18219161 0.18126487 0.17778334 0.18467126 0.18564809 0.19273638\n",
      " 0.19153413 0.19313713 0.19829681 0.19556669 0.19579211 0.19316218\n",
      " 0.20077646 0.19997495 0.19644333 0.20343143 0.20641202 0.20726362\n",
      " 0.21823419 0.2144521  0.21162179 0.21282405 0.20999374 0.20480902\n",
      " 0.20348153 0.20771446 0.20964308 0.21001879 0.21828428 0.21763306\n",
      " 0.2210645  0.21613024 0.21314966 0.21517846 0.21735755 0.21956168\n",
      " 0.21635567 0.22289292 0.22444584 0.22232937 0.21475266 0.21122104\n",
      " 0.18822793 0.18036318 0.18274264 0.17871008 0.17815905 0.1777082\n",
      " 0.18189105 0.17685661 0.17465247 0.1682154  0.16944271 0.17282405\n",
      " 0.17630557 0.18604884 0.17417658 0.17976205 0.18162958 0.18279342\n",
      " 0.18425934 0.18592505 0.18770622 0.18953833]\n",
      "6 day output [[0.19137463]]\n",
      "7 day input [0.14619912 0.14624922 0.14935504 0.15226049 0.14980589 0.14572323\n",
      " 0.14649969 0.14259236 0.14256731 0.15421415 0.15739512 0.15716969\n",
      " 0.15453976 0.15180964 0.14765185 0.16713838 0.16696306 0.16262993\n",
      " 0.16710081 0.16758923 0.16463369 0.16338134 0.16338134 0.16493425\n",
      " 0.17084534 0.17112085 0.16871634 0.16210394 0.16280526 0.16568566\n",
      " 0.17179712 0.1764809  0.17635567 0.183469   0.18562304 0.18219161\n",
      " 0.18126487 0.17778334 0.18467126 0.18564809 0.19273638 0.19153413\n",
      " 0.19313713 0.19829681 0.19556669 0.19579211 0.19316218 0.20077646\n",
      " 0.19997495 0.19644333 0.20343143 0.20641202 0.20726362 0.21823419\n",
      " 0.2144521  0.21162179 0.21282405 0.20999374 0.20480902 0.20348153\n",
      " 0.20771446 0.20964308 0.21001879 0.21828428 0.21763306 0.2210645\n",
      " 0.21613024 0.21314966 0.21517846 0.21735755 0.21956168 0.21635567\n",
      " 0.22289292 0.22444584 0.22232937 0.21475266 0.21122104 0.18822793\n",
      " 0.18036318 0.18274264 0.17871008 0.17815905 0.1777082  0.18189105\n",
      " 0.17685661 0.17465247 0.1682154  0.16944271 0.17282405 0.17630557\n",
      " 0.18604884 0.17417658 0.17976205 0.18162958 0.18279342 0.18425934\n",
      " 0.18592505 0.18770622 0.18953833 0.19137463]\n",
      "7 day output [[0.19318251]]\n",
      "8 day input [0.14624922 0.14935504 0.15226049 0.14980589 0.14572323 0.14649969\n",
      " 0.14259236 0.14256731 0.15421415 0.15739512 0.15716969 0.15453976\n",
      " 0.15180964 0.14765185 0.16713838 0.16696306 0.16262993 0.16710081\n",
      " 0.16758923 0.16463369 0.16338134 0.16338134 0.16493425 0.17084534\n",
      " 0.17112085 0.16871634 0.16210394 0.16280526 0.16568566 0.17179712\n",
      " 0.1764809  0.17635567 0.183469   0.18562304 0.18219161 0.18126487\n",
      " 0.17778334 0.18467126 0.18564809 0.19273638 0.19153413 0.19313713\n",
      " 0.19829681 0.19556669 0.19579211 0.19316218 0.20077646 0.19997495\n",
      " 0.19644333 0.20343143 0.20641202 0.20726362 0.21823419 0.2144521\n",
      " 0.21162179 0.21282405 0.20999374 0.20480902 0.20348153 0.20771446\n",
      " 0.20964308 0.21001879 0.21828428 0.21763306 0.2210645  0.21613024\n",
      " 0.21314966 0.21517846 0.21735755 0.21956168 0.21635567 0.22289292\n",
      " 0.22444584 0.22232937 0.21475266 0.21122104 0.18822793 0.18036318\n",
      " 0.18274264 0.17871008 0.17815905 0.1777082  0.18189105 0.17685661\n",
      " 0.17465247 0.1682154  0.16944271 0.17282405 0.17630557 0.18604884\n",
      " 0.17417658 0.17976205 0.18162958 0.18279342 0.18425934 0.18592505\n",
      " 0.18770622 0.18953833 0.19137463 0.19318251]\n",
      "8 day output [[0.19494045]]\n",
      "9 day input [0.14935504 0.15226049 0.14980589 0.14572323 0.14649969 0.14259236\n",
      " 0.14256731 0.15421415 0.15739512 0.15716969 0.15453976 0.15180964\n",
      " 0.14765185 0.16713838 0.16696306 0.16262993 0.16710081 0.16758923\n",
      " 0.16463369 0.16338134 0.16338134 0.16493425 0.17084534 0.17112085\n",
      " 0.16871634 0.16210394 0.16280526 0.16568566 0.17179712 0.1764809\n",
      " 0.17635567 0.183469   0.18562304 0.18219161 0.18126487 0.17778334\n",
      " 0.18467126 0.18564809 0.19273638 0.19153413 0.19313713 0.19829681\n",
      " 0.19556669 0.19579211 0.19316218 0.20077646 0.19997495 0.19644333\n",
      " 0.20343143 0.20641202 0.20726362 0.21823419 0.2144521  0.21162179\n",
      " 0.21282405 0.20999374 0.20480902 0.20348153 0.20771446 0.20964308\n",
      " 0.21001879 0.21828428 0.21763306 0.2210645  0.21613024 0.21314966\n",
      " 0.21517846 0.21735755 0.21956168 0.21635567 0.22289292 0.22444584\n",
      " 0.22232937 0.21475266 0.21122104 0.18822793 0.18036318 0.18274264\n",
      " 0.17871008 0.17815905 0.1777082  0.18189105 0.17685661 0.17465247\n",
      " 0.1682154  0.16944271 0.17282405 0.17630557 0.18604884 0.17417658\n",
      " 0.17976205 0.18162958 0.18279342 0.18425934 0.18592505 0.18770622\n",
      " 0.18953833 0.19137463 0.19318251 0.19494045]\n",
      "9 day output [[0.1966352]]\n",
      "10 day input [0.15226049 0.14980589 0.14572323 0.14649969 0.14259236 0.14256731\n",
      " 0.15421415 0.15739512 0.15716969 0.15453976 0.15180964 0.14765185\n",
      " 0.16713838 0.16696306 0.16262993 0.16710081 0.16758923 0.16463369\n",
      " 0.16338134 0.16338134 0.16493425 0.17084534 0.17112085 0.16871634\n",
      " 0.16210394 0.16280526 0.16568566 0.17179712 0.1764809  0.17635567\n",
      " 0.183469   0.18562304 0.18219161 0.18126487 0.17778334 0.18467126\n",
      " 0.18564809 0.19273638 0.19153413 0.19313713 0.19829681 0.19556669\n",
      " 0.19579211 0.19316218 0.20077646 0.19997495 0.19644333 0.20343143\n",
      " 0.20641202 0.20726362 0.21823419 0.2144521  0.21162179 0.21282405\n",
      " 0.20999374 0.20480902 0.20348153 0.20771446 0.20964308 0.21001879\n",
      " 0.21828428 0.21763306 0.2210645  0.21613024 0.21314966 0.21517846\n",
      " 0.21735755 0.21956168 0.21635567 0.22289292 0.22444584 0.22232937\n",
      " 0.21475266 0.21122104 0.18822793 0.18036318 0.18274264 0.17871008\n",
      " 0.17815905 0.1777082  0.18189105 0.17685661 0.17465247 0.1682154\n",
      " 0.16944271 0.17282405 0.17630557 0.18604884 0.17417658 0.17976205\n",
      " 0.18162958 0.18279342 0.18425934 0.18592505 0.18770622 0.18953833\n",
      " 0.19137463 0.19318251 0.19494045 0.1966352 ]\n",
      "10 day output [[0.19825971]]\n",
      "11 day input [0.14980589 0.14572323 0.14649969 0.14259236 0.14256731 0.15421415\n",
      " 0.15739512 0.15716969 0.15453976 0.15180964 0.14765185 0.16713838\n",
      " 0.16696306 0.16262993 0.16710081 0.16758923 0.16463369 0.16338134\n",
      " 0.16338134 0.16493425 0.17084534 0.17112085 0.16871634 0.16210394\n",
      " 0.16280526 0.16568566 0.17179712 0.1764809  0.17635567 0.183469\n",
      " 0.18562304 0.18219161 0.18126487 0.17778334 0.18467126 0.18564809\n",
      " 0.19273638 0.19153413 0.19313713 0.19829681 0.19556669 0.19579211\n",
      " 0.19316218 0.20077646 0.19997495 0.19644333 0.20343143 0.20641202\n",
      " 0.20726362 0.21823419 0.2144521  0.21162179 0.21282405 0.20999374\n",
      " 0.20480902 0.20348153 0.20771446 0.20964308 0.21001879 0.21828428\n",
      " 0.21763306 0.2210645  0.21613024 0.21314966 0.21517846 0.21735755\n",
      " 0.21956168 0.21635567 0.22289292 0.22444584 0.22232937 0.21475266\n",
      " 0.21122104 0.18822793 0.18036318 0.18274264 0.17871008 0.17815905\n",
      " 0.1777082  0.18189105 0.17685661 0.17465247 0.1682154  0.16944271\n",
      " 0.17282405 0.17630557 0.18604884 0.17417658 0.17976205 0.18162958\n",
      " 0.18279342 0.18425934 0.18592505 0.18770622 0.18953833 0.19137463\n",
      " 0.19318251 0.19494045 0.1966352  0.19825971]\n",
      "11 day output [[0.1998112]]\n",
      "12 day input [0.14572323 0.14649969 0.14259236 0.14256731 0.15421415 0.15739512\n",
      " 0.15716969 0.15453976 0.15180964 0.14765185 0.16713838 0.16696306\n",
      " 0.16262993 0.16710081 0.16758923 0.16463369 0.16338134 0.16338134\n",
      " 0.16493425 0.17084534 0.17112085 0.16871634 0.16210394 0.16280526\n",
      " 0.16568566 0.17179712 0.1764809  0.17635567 0.183469   0.18562304\n",
      " 0.18219161 0.18126487 0.17778334 0.18467126 0.18564809 0.19273638\n",
      " 0.19153413 0.19313713 0.19829681 0.19556669 0.19579211 0.19316218\n",
      " 0.20077646 0.19997495 0.19644333 0.20343143 0.20641202 0.20726362\n",
      " 0.21823419 0.2144521  0.21162179 0.21282405 0.20999374 0.20480902\n",
      " 0.20348153 0.20771446 0.20964308 0.21001879 0.21828428 0.21763306\n",
      " 0.2210645  0.21613024 0.21314966 0.21517846 0.21735755 0.21956168\n",
      " 0.21635567 0.22289292 0.22444584 0.22232937 0.21475266 0.21122104\n",
      " 0.18822793 0.18036318 0.18274264 0.17871008 0.17815905 0.1777082\n",
      " 0.18189105 0.17685661 0.17465247 0.1682154  0.16944271 0.17282405\n",
      " 0.17630557 0.18604884 0.17417658 0.17976205 0.18162958 0.18279342\n",
      " 0.18425934 0.18592505 0.18770622 0.18953833 0.19137463 0.19318251\n",
      " 0.19494045 0.1966352  0.19825971 0.19981121]\n",
      "12 day output [[0.2012905]]\n",
      "13 day input [0.14649969 0.14259236 0.14256731 0.15421415 0.15739512 0.15716969\n",
      " 0.15453976 0.15180964 0.14765185 0.16713838 0.16696306 0.16262993\n",
      " 0.16710081 0.16758923 0.16463369 0.16338134 0.16338134 0.16493425\n",
      " 0.17084534 0.17112085 0.16871634 0.16210394 0.16280526 0.16568566\n",
      " 0.17179712 0.1764809  0.17635567 0.183469   0.18562304 0.18219161\n",
      " 0.18126487 0.17778334 0.18467126 0.18564809 0.19273638 0.19153413\n",
      " 0.19313713 0.19829681 0.19556669 0.19579211 0.19316218 0.20077646\n",
      " 0.19997495 0.19644333 0.20343143 0.20641202 0.20726362 0.21823419\n",
      " 0.2144521  0.21162179 0.21282405 0.20999374 0.20480902 0.20348153\n",
      " 0.20771446 0.20964308 0.21001879 0.21828428 0.21763306 0.2210645\n",
      " 0.21613024 0.21314966 0.21517846 0.21735755 0.21956168 0.21635567\n",
      " 0.22289292 0.22444584 0.22232937 0.21475266 0.21122104 0.18822793\n",
      " 0.18036318 0.18274264 0.17871008 0.17815905 0.1777082  0.18189105\n",
      " 0.17685661 0.17465247 0.1682154  0.16944271 0.17282405 0.17630557\n",
      " 0.18604884 0.17417658 0.17976205 0.18162958 0.18279342 0.18425934\n",
      " 0.18592505 0.18770622 0.18953833 0.19137463 0.19318251 0.19494045\n",
      " 0.1966352  0.19825971 0.19981121 0.2012905 ]\n",
      "13 day output [[0.20270066]]\n",
      "14 day input [0.14259236 0.14256731 0.15421415 0.15739512 0.15716969 0.15453976\n",
      " 0.15180964 0.14765185 0.16713838 0.16696306 0.16262993 0.16710081\n",
      " 0.16758923 0.16463369 0.16338134 0.16338134 0.16493425 0.17084534\n",
      " 0.17112085 0.16871634 0.16210394 0.16280526 0.16568566 0.17179712\n",
      " 0.1764809  0.17635567 0.183469   0.18562304 0.18219161 0.18126487\n",
      " 0.17778334 0.18467126 0.18564809 0.19273638 0.19153413 0.19313713\n",
      " 0.19829681 0.19556669 0.19579211 0.19316218 0.20077646 0.19997495\n",
      " 0.19644333 0.20343143 0.20641202 0.20726362 0.21823419 0.2144521\n",
      " 0.21162179 0.21282405 0.20999374 0.20480902 0.20348153 0.20771446\n",
      " 0.20964308 0.21001879 0.21828428 0.21763306 0.2210645  0.21613024\n",
      " 0.21314966 0.21517846 0.21735755 0.21956168 0.21635567 0.22289292\n",
      " 0.22444584 0.22232937 0.21475266 0.21122104 0.18822793 0.18036318\n",
      " 0.18274264 0.17871008 0.17815905 0.1777082  0.18189105 0.17685661\n",
      " 0.17465247 0.1682154  0.16944271 0.17282405 0.17630557 0.18604884\n",
      " 0.17417658 0.17976205 0.18162958 0.18279342 0.18425934 0.18592505\n",
      " 0.18770622 0.18953833 0.19137463 0.19318251 0.19494045 0.1966352\n",
      " 0.19825971 0.19981121 0.2012905  0.20270066]\n",
      "14 day output [[0.20404665]]\n",
      "15 day input [0.14256731 0.15421415 0.15739512 0.15716969 0.15453976 0.15180964\n",
      " 0.14765185 0.16713838 0.16696306 0.16262993 0.16710081 0.16758923\n",
      " 0.16463369 0.16338134 0.16338134 0.16493425 0.17084534 0.17112085\n",
      " 0.16871634 0.16210394 0.16280526 0.16568566 0.17179712 0.1764809\n",
      " 0.17635567 0.183469   0.18562304 0.18219161 0.18126487 0.17778334\n",
      " 0.18467126 0.18564809 0.19273638 0.19153413 0.19313713 0.19829681\n",
      " 0.19556669 0.19579211 0.19316218 0.20077646 0.19997495 0.19644333\n",
      " 0.20343143 0.20641202 0.20726362 0.21823419 0.2144521  0.21162179\n",
      " 0.21282405 0.20999374 0.20480902 0.20348153 0.20771446 0.20964308\n",
      " 0.21001879 0.21828428 0.21763306 0.2210645  0.21613024 0.21314966\n",
      " 0.21517846 0.21735755 0.21956168 0.21635567 0.22289292 0.22444584\n",
      " 0.22232937 0.21475266 0.21122104 0.18822793 0.18036318 0.18274264\n",
      " 0.17871008 0.17815905 0.1777082  0.18189105 0.17685661 0.17465247\n",
      " 0.1682154  0.16944271 0.17282405 0.17630557 0.18604884 0.17417658\n",
      " 0.17976205 0.18162958 0.18279342 0.18425934 0.18592505 0.18770622\n",
      " 0.18953833 0.19137463 0.19318251 0.19494045 0.1966352  0.19825971\n",
      " 0.19981121 0.2012905  0.20270066 0.20404665]\n",
      "15 day output [[0.20533447]]\n",
      "16 day input [0.15421415 0.15739512 0.15716969 0.15453976 0.15180964 0.14765185\n",
      " 0.16713838 0.16696306 0.16262993 0.16710081 0.16758923 0.16463369\n",
      " 0.16338134 0.16338134 0.16493425 0.17084534 0.17112085 0.16871634\n",
      " 0.16210394 0.16280526 0.16568566 0.17179712 0.1764809  0.17635567\n",
      " 0.183469   0.18562304 0.18219161 0.18126487 0.17778334 0.18467126\n",
      " 0.18564809 0.19273638 0.19153413 0.19313713 0.19829681 0.19556669\n",
      " 0.19579211 0.19316218 0.20077646 0.19997495 0.19644333 0.20343143\n",
      " 0.20641202 0.20726362 0.21823419 0.2144521  0.21162179 0.21282405\n",
      " 0.20999374 0.20480902 0.20348153 0.20771446 0.20964308 0.21001879\n",
      " 0.21828428 0.21763306 0.2210645  0.21613024 0.21314966 0.21517846\n",
      " 0.21735755 0.21956168 0.21635567 0.22289292 0.22444584 0.22232937\n",
      " 0.21475266 0.21122104 0.18822793 0.18036318 0.18274264 0.17871008\n",
      " 0.17815905 0.1777082  0.18189105 0.17685661 0.17465247 0.1682154\n",
      " 0.16944271 0.17282405 0.17630557 0.18604884 0.17417658 0.17976205\n",
      " 0.18162958 0.18279342 0.18425934 0.18592505 0.18770622 0.18953833\n",
      " 0.19137463 0.19318251 0.19494045 0.1966352  0.19825971 0.19981121\n",
      " 0.2012905  0.20270066 0.20404665 0.20533447]\n",
      "16 day output [[0.20657118]]\n",
      "17 day input [0.15739512 0.15716969 0.15453976 0.15180964 0.14765185 0.16713838\n",
      " 0.16696306 0.16262993 0.16710081 0.16758923 0.16463369 0.16338134\n",
      " 0.16338134 0.16493425 0.17084534 0.17112085 0.16871634 0.16210394\n",
      " 0.16280526 0.16568566 0.17179712 0.1764809  0.17635567 0.183469\n",
      " 0.18562304 0.18219161 0.18126487 0.17778334 0.18467126 0.18564809\n",
      " 0.19273638 0.19153413 0.19313713 0.19829681 0.19556669 0.19579211\n",
      " 0.19316218 0.20077646 0.19997495 0.19644333 0.20343143 0.20641202\n",
      " 0.20726362 0.21823419 0.2144521  0.21162179 0.21282405 0.20999374\n",
      " 0.20480902 0.20348153 0.20771446 0.20964308 0.21001879 0.21828428\n",
      " 0.21763306 0.2210645  0.21613024 0.21314966 0.21517846 0.21735755\n",
      " 0.21956168 0.21635567 0.22289292 0.22444584 0.22232937 0.21475266\n",
      " 0.21122104 0.18822793 0.18036318 0.18274264 0.17871008 0.17815905\n",
      " 0.1777082  0.18189105 0.17685661 0.17465247 0.1682154  0.16944271\n",
      " 0.17282405 0.17630557 0.18604884 0.17417658 0.17976205 0.18162958\n",
      " 0.18279342 0.18425934 0.18592505 0.18770622 0.18953833 0.19137463\n",
      " 0.19318251 0.19494045 0.1966352  0.19825971 0.19981121 0.2012905\n",
      " 0.20270066 0.20404665 0.20533447 0.20657118]\n",
      "17 day output [[0.20776407]]\n",
      "18 day input [0.15716969 0.15453976 0.15180964 0.14765185 0.16713838 0.16696306\n",
      " 0.16262993 0.16710081 0.16758923 0.16463369 0.16338134 0.16338134\n",
      " 0.16493425 0.17084534 0.17112085 0.16871634 0.16210394 0.16280526\n",
      " 0.16568566 0.17179712 0.1764809  0.17635567 0.183469   0.18562304\n",
      " 0.18219161 0.18126487 0.17778334 0.18467126 0.18564809 0.19273638\n",
      " 0.19153413 0.19313713 0.19829681 0.19556669 0.19579211 0.19316218\n",
      " 0.20077646 0.19997495 0.19644333 0.20343143 0.20641202 0.20726362\n",
      " 0.21823419 0.2144521  0.21162179 0.21282405 0.20999374 0.20480902\n",
      " 0.20348153 0.20771446 0.20964308 0.21001879 0.21828428 0.21763306\n",
      " 0.2210645  0.21613024 0.21314966 0.21517846 0.21735755 0.21956168\n",
      " 0.21635567 0.22289292 0.22444584 0.22232937 0.21475266 0.21122104\n",
      " 0.18822793 0.18036318 0.18274264 0.17871008 0.17815905 0.1777082\n",
      " 0.18189105 0.17685661 0.17465247 0.1682154  0.16944271 0.17282405\n",
      " 0.17630557 0.18604884 0.17417658 0.17976205 0.18162958 0.18279342\n",
      " 0.18425934 0.18592505 0.18770622 0.18953833 0.19137463 0.19318251\n",
      " 0.19494045 0.1966352  0.19825971 0.19981121 0.2012905  0.20270066\n",
      " 0.20404665 0.20533447 0.20657118 0.20776407]\n",
      "18 day output [[0.20892029]]\n",
      "19 day input [0.15453976 0.15180964 0.14765185 0.16713838 0.16696306 0.16262993\n",
      " 0.16710081 0.16758923 0.16463369 0.16338134 0.16338134 0.16493425\n",
      " 0.17084534 0.17112085 0.16871634 0.16210394 0.16280526 0.16568566\n",
      " 0.17179712 0.1764809  0.17635567 0.183469   0.18562304 0.18219161\n",
      " 0.18126487 0.17778334 0.18467126 0.18564809 0.19273638 0.19153413\n",
      " 0.19313713 0.19829681 0.19556669 0.19579211 0.19316218 0.20077646\n",
      " 0.19997495 0.19644333 0.20343143 0.20641202 0.20726362 0.21823419\n",
      " 0.2144521  0.21162179 0.21282405 0.20999374 0.20480902 0.20348153\n",
      " 0.20771446 0.20964308 0.21001879 0.21828428 0.21763306 0.2210645\n",
      " 0.21613024 0.21314966 0.21517846 0.21735755 0.21956168 0.21635567\n",
      " 0.22289292 0.22444584 0.22232937 0.21475266 0.21122104 0.18822793\n",
      " 0.18036318 0.18274264 0.17871008 0.17815905 0.1777082  0.18189105\n",
      " 0.17685661 0.17465247 0.1682154  0.16944271 0.17282405 0.17630557\n",
      " 0.18604884 0.17417658 0.17976205 0.18162958 0.18279342 0.18425934\n",
      " 0.18592505 0.18770622 0.18953833 0.19137463 0.19318251 0.19494045\n",
      " 0.1966352  0.19825971 0.19981121 0.2012905  0.20270066 0.20404665\n",
      " 0.20533447 0.20657118 0.20776407 0.20892029]\n",
      "19 day output [[0.21004696]]\n",
      "20 day input [0.15180964 0.14765185 0.16713838 0.16696306 0.16262993 0.16710081\n",
      " 0.16758923 0.16463369 0.16338134 0.16338134 0.16493425 0.17084534\n",
      " 0.17112085 0.16871634 0.16210394 0.16280526 0.16568566 0.17179712\n",
      " 0.1764809  0.17635567 0.183469   0.18562304 0.18219161 0.18126487\n",
      " 0.17778334 0.18467126 0.18564809 0.19273638 0.19153413 0.19313713\n",
      " 0.19829681 0.19556669 0.19579211 0.19316218 0.20077646 0.19997495\n",
      " 0.19644333 0.20343143 0.20641202 0.20726362 0.21823419 0.2144521\n",
      " 0.21162179 0.21282405 0.20999374 0.20480902 0.20348153 0.20771446\n",
      " 0.20964308 0.21001879 0.21828428 0.21763306 0.2210645  0.21613024\n",
      " 0.21314966 0.21517846 0.21735755 0.21956168 0.21635567 0.22289292\n",
      " 0.22444584 0.22232937 0.21475266 0.21122104 0.18822793 0.18036318\n",
      " 0.18274264 0.17871008 0.17815905 0.1777082  0.18189105 0.17685661\n",
      " 0.17465247 0.1682154  0.16944271 0.17282405 0.17630557 0.18604884\n",
      " 0.17417658 0.17976205 0.18162958 0.18279342 0.18425934 0.18592505\n",
      " 0.18770622 0.18953833 0.19137463 0.19318251 0.19494045 0.1966352\n",
      " 0.19825971 0.19981121 0.2012905  0.20270066 0.20404665 0.20533447\n",
      " 0.20657118 0.20776407 0.20892029 0.21004696]\n",
      "20 day output [[0.2111503]]\n",
      "21 day input [0.14765185 0.16713838 0.16696306 0.16262993 0.16710081 0.16758923\n",
      " 0.16463369 0.16338134 0.16338134 0.16493425 0.17084534 0.17112085\n",
      " 0.16871634 0.16210394 0.16280526 0.16568566 0.17179712 0.1764809\n",
      " 0.17635567 0.183469   0.18562304 0.18219161 0.18126487 0.17778334\n",
      " 0.18467126 0.18564809 0.19273638 0.19153413 0.19313713 0.19829681\n",
      " 0.19556669 0.19579211 0.19316218 0.20077646 0.19997495 0.19644333\n",
      " 0.20343143 0.20641202 0.20726362 0.21823419 0.2144521  0.21162179\n",
      " 0.21282405 0.20999374 0.20480902 0.20348153 0.20771446 0.20964308\n",
      " 0.21001879 0.21828428 0.21763306 0.2210645  0.21613024 0.21314966\n",
      " 0.21517846 0.21735755 0.21956168 0.21635567 0.22289292 0.22444584\n",
      " 0.22232937 0.21475266 0.21122104 0.18822793 0.18036318 0.18274264\n",
      " 0.17871008 0.17815905 0.1777082  0.18189105 0.17685661 0.17465247\n",
      " 0.1682154  0.16944271 0.17282405 0.17630557 0.18604884 0.17417658\n",
      " 0.17976205 0.18162958 0.18279342 0.18425934 0.18592505 0.18770622\n",
      " 0.18953833 0.19137463 0.19318251 0.19494045 0.1966352  0.19825971\n",
      " 0.19981121 0.2012905  0.20270066 0.20404665 0.20533447 0.20657118\n",
      " 0.20776407 0.20892029 0.21004696 0.2111503 ]\n",
      "21 day output [[0.21223612]]\n",
      "22 day input [0.16713838 0.16696306 0.16262993 0.16710081 0.16758923 0.16463369\n",
      " 0.16338134 0.16338134 0.16493425 0.17084534 0.17112085 0.16871634\n",
      " 0.16210394 0.16280526 0.16568566 0.17179712 0.1764809  0.17635567\n",
      " 0.183469   0.18562304 0.18219161 0.18126487 0.17778334 0.18467126\n",
      " 0.18564809 0.19273638 0.19153413 0.19313713 0.19829681 0.19556669\n",
      " 0.19579211 0.19316218 0.20077646 0.19997495 0.19644333 0.20343143\n",
      " 0.20641202 0.20726362 0.21823419 0.2144521  0.21162179 0.21282405\n",
      " 0.20999374 0.20480902 0.20348153 0.20771446 0.20964308 0.21001879\n",
      " 0.21828428 0.21763306 0.2210645  0.21613024 0.21314966 0.21517846\n",
      " 0.21735755 0.21956168 0.21635567 0.22289292 0.22444584 0.22232937\n",
      " 0.21475266 0.21122104 0.18822793 0.18036318 0.18274264 0.17871008\n",
      " 0.17815905 0.1777082  0.18189105 0.17685661 0.17465247 0.1682154\n",
      " 0.16944271 0.17282405 0.17630557 0.18604884 0.17417658 0.17976205\n",
      " 0.18162958 0.18279342 0.18425934 0.18592505 0.18770622 0.18953833\n",
      " 0.19137463 0.19318251 0.19494045 0.1966352  0.19825971 0.19981121\n",
      " 0.2012905  0.20270066 0.20404665 0.20533447 0.20657118 0.20776407\n",
      " 0.20892029 0.21004696 0.2111503  0.21223612]\n",
      "22 day output [[0.21330918]]\n",
      "23 day input [0.16696306 0.16262993 0.16710081 0.16758923 0.16463369 0.16338134\n",
      " 0.16338134 0.16493425 0.17084534 0.17112085 0.16871634 0.16210394\n",
      " 0.16280526 0.16568566 0.17179712 0.1764809  0.17635567 0.183469\n",
      " 0.18562304 0.18219161 0.18126487 0.17778334 0.18467126 0.18564809\n",
      " 0.19273638 0.19153413 0.19313713 0.19829681 0.19556669 0.19579211\n",
      " 0.19316218 0.20077646 0.19997495 0.19644333 0.20343143 0.20641202\n",
      " 0.20726362 0.21823419 0.2144521  0.21162179 0.21282405 0.20999374\n",
      " 0.20480902 0.20348153 0.20771446 0.20964308 0.21001879 0.21828428\n",
      " 0.21763306 0.2210645  0.21613024 0.21314966 0.21517846 0.21735755\n",
      " 0.21956168 0.21635567 0.22289292 0.22444584 0.22232937 0.21475266\n",
      " 0.21122104 0.18822793 0.18036318 0.18274264 0.17871008 0.17815905\n",
      " 0.1777082  0.18189105 0.17685661 0.17465247 0.1682154  0.16944271\n",
      " 0.17282405 0.17630557 0.18604884 0.17417658 0.17976205 0.18162958\n",
      " 0.18279342 0.18425934 0.18592505 0.18770622 0.18953833 0.19137463\n",
      " 0.19318251 0.19494045 0.1966352  0.19825971 0.19981121 0.2012905\n",
      " 0.20270066 0.20404665 0.20533447 0.20657118 0.20776407 0.20892029\n",
      " 0.21004696 0.2111503  0.21223612 0.21330918]\n",
      "23 day output [[0.21437371]]\n",
      "24 day input [0.16262993 0.16710081 0.16758923 0.16463369 0.16338134 0.16338134\n",
      " 0.16493425 0.17084534 0.17112085 0.16871634 0.16210394 0.16280526\n",
      " 0.16568566 0.17179712 0.1764809  0.17635567 0.183469   0.18562304\n",
      " 0.18219161 0.18126487 0.17778334 0.18467126 0.18564809 0.19273638\n",
      " 0.19153413 0.19313713 0.19829681 0.19556669 0.19579211 0.19316218\n",
      " 0.20077646 0.19997495 0.19644333 0.20343143 0.20641202 0.20726362\n",
      " 0.21823419 0.2144521  0.21162179 0.21282405 0.20999374 0.20480902\n",
      " 0.20348153 0.20771446 0.20964308 0.21001879 0.21828428 0.21763306\n",
      " 0.2210645  0.21613024 0.21314966 0.21517846 0.21735755 0.21956168\n",
      " 0.21635567 0.22289292 0.22444584 0.22232937 0.21475266 0.21122104\n",
      " 0.18822793 0.18036318 0.18274264 0.17871008 0.17815905 0.1777082\n",
      " 0.18189105 0.17685661 0.17465247 0.1682154  0.16944271 0.17282405\n",
      " 0.17630557 0.18604884 0.17417658 0.17976205 0.18162958 0.18279342\n",
      " 0.18425934 0.18592505 0.18770622 0.18953833 0.19137463 0.19318251\n",
      " 0.19494045 0.1966352  0.19825971 0.19981121 0.2012905  0.20270066\n",
      " 0.20404665 0.20533447 0.20657118 0.20776407 0.20892029 0.21004696\n",
      " 0.2111503  0.21223612 0.21330918 0.21437371]\n",
      "24 day output [[0.21543251]]\n",
      "25 day input [0.16710081 0.16758923 0.16463369 0.16338134 0.16338134 0.16493425\n",
      " 0.17084534 0.17112085 0.16871634 0.16210394 0.16280526 0.16568566\n",
      " 0.17179712 0.1764809  0.17635567 0.183469   0.18562304 0.18219161\n",
      " 0.18126487 0.17778334 0.18467126 0.18564809 0.19273638 0.19153413\n",
      " 0.19313713 0.19829681 0.19556669 0.19579211 0.19316218 0.20077646\n",
      " 0.19997495 0.19644333 0.20343143 0.20641202 0.20726362 0.21823419\n",
      " 0.2144521  0.21162179 0.21282405 0.20999374 0.20480902 0.20348153\n",
      " 0.20771446 0.20964308 0.21001879 0.21828428 0.21763306 0.2210645\n",
      " 0.21613024 0.21314966 0.21517846 0.21735755 0.21956168 0.21635567\n",
      " 0.22289292 0.22444584 0.22232937 0.21475266 0.21122104 0.18822793\n",
      " 0.18036318 0.18274264 0.17871008 0.17815905 0.1777082  0.18189105\n",
      " 0.17685661 0.17465247 0.1682154  0.16944271 0.17282405 0.17630557\n",
      " 0.18604884 0.17417658 0.17976205 0.18162958 0.18279342 0.18425934\n",
      " 0.18592505 0.18770622 0.18953833 0.19137463 0.19318251 0.19494045\n",
      " 0.1966352  0.19825971 0.19981121 0.2012905  0.20270066 0.20404665\n",
      " 0.20533447 0.20657118 0.20776407 0.20892029 0.21004696 0.2111503\n",
      " 0.21223612 0.21330918 0.21437371 0.21543251]\n",
      "25 day output [[0.21648765]]\n",
      "26 day input [0.16758923 0.16463369 0.16338134 0.16338134 0.16493425 0.17084534\n",
      " 0.17112085 0.16871634 0.16210394 0.16280526 0.16568566 0.17179712\n",
      " 0.1764809  0.17635567 0.183469   0.18562304 0.18219161 0.18126487\n",
      " 0.17778334 0.18467126 0.18564809 0.19273638 0.19153413 0.19313713\n",
      " 0.19829681 0.19556669 0.19579211 0.19316218 0.20077646 0.19997495\n",
      " 0.19644333 0.20343143 0.20641202 0.20726362 0.21823419 0.2144521\n",
      " 0.21162179 0.21282405 0.20999374 0.20480902 0.20348153 0.20771446\n",
      " 0.20964308 0.21001879 0.21828428 0.21763306 0.2210645  0.21613024\n",
      " 0.21314966 0.21517846 0.21735755 0.21956168 0.21635567 0.22289292\n",
      " 0.22444584 0.22232937 0.21475266 0.21122104 0.18822793 0.18036318\n",
      " 0.18274264 0.17871008 0.17815905 0.1777082  0.18189105 0.17685661\n",
      " 0.17465247 0.1682154  0.16944271 0.17282405 0.17630557 0.18604884\n",
      " 0.17417658 0.17976205 0.18162958 0.18279342 0.18425934 0.18592505\n",
      " 0.18770622 0.18953833 0.19137463 0.19318251 0.19494045 0.1966352\n",
      " 0.19825971 0.19981121 0.2012905  0.20270066 0.20404665 0.20533447\n",
      " 0.20657118 0.20776407 0.20892029 0.21004696 0.2111503  0.21223612\n",
      " 0.21330918 0.21437371 0.21543251 0.21648765]\n",
      "26 day output [[0.21754046]]\n",
      "27 day input [0.16463369 0.16338134 0.16338134 0.16493425 0.17084534 0.17112085\n",
      " 0.16871634 0.16210394 0.16280526 0.16568566 0.17179712 0.1764809\n",
      " 0.17635567 0.183469   0.18562304 0.18219161 0.18126487 0.17778334\n",
      " 0.18467126 0.18564809 0.19273638 0.19153413 0.19313713 0.19829681\n",
      " 0.19556669 0.19579211 0.19316218 0.20077646 0.19997495 0.19644333\n",
      " 0.20343143 0.20641202 0.20726362 0.21823419 0.2144521  0.21162179\n",
      " 0.21282405 0.20999374 0.20480902 0.20348153 0.20771446 0.20964308\n",
      " 0.21001879 0.21828428 0.21763306 0.2210645  0.21613024 0.21314966\n",
      " 0.21517846 0.21735755 0.21956168 0.21635567 0.22289292 0.22444584\n",
      " 0.22232937 0.21475266 0.21122104 0.18822793 0.18036318 0.18274264\n",
      " 0.17871008 0.17815905 0.1777082  0.18189105 0.17685661 0.17465247\n",
      " 0.1682154  0.16944271 0.17282405 0.17630557 0.18604884 0.17417658\n",
      " 0.17976205 0.18162958 0.18279342 0.18425934 0.18592505 0.18770622\n",
      " 0.18953833 0.19137463 0.19318251 0.19494045 0.1966352  0.19825971\n",
      " 0.19981121 0.2012905  0.20270066 0.20404665 0.20533447 0.20657118\n",
      " 0.20776407 0.20892029 0.21004696 0.2111503  0.21223612 0.21330918\n",
      " 0.21437371 0.21543251 0.21648765 0.21754046]\n",
      "27 day output [[0.21859135]]\n",
      "28 day input [0.16338134 0.16338134 0.16493425 0.17084534 0.17112085 0.16871634\n",
      " 0.16210394 0.16280526 0.16568566 0.17179712 0.1764809  0.17635567\n",
      " 0.183469   0.18562304 0.18219161 0.18126487 0.17778334 0.18467126\n",
      " 0.18564809 0.19273638 0.19153413 0.19313713 0.19829681 0.19556669\n",
      " 0.19579211 0.19316218 0.20077646 0.19997495 0.19644333 0.20343143\n",
      " 0.20641202 0.20726362 0.21823419 0.2144521  0.21162179 0.21282405\n",
      " 0.20999374 0.20480902 0.20348153 0.20771446 0.20964308 0.21001879\n",
      " 0.21828428 0.21763306 0.2210645  0.21613024 0.21314966 0.21517846\n",
      " 0.21735755 0.21956168 0.21635567 0.22289292 0.22444584 0.22232937\n",
      " 0.21475266 0.21122104 0.18822793 0.18036318 0.18274264 0.17871008\n",
      " 0.17815905 0.1777082  0.18189105 0.17685661 0.17465247 0.1682154\n",
      " 0.16944271 0.17282405 0.17630557 0.18604884 0.17417658 0.17976205\n",
      " 0.18162958 0.18279342 0.18425934 0.18592505 0.18770622 0.18953833\n",
      " 0.19137463 0.19318251 0.19494045 0.1966352  0.19825971 0.19981121\n",
      " 0.2012905  0.20270066 0.20404665 0.20533447 0.20657118 0.20776407\n",
      " 0.20892029 0.21004696 0.2111503  0.21223612 0.21330918 0.21437371\n",
      " 0.21543251 0.21648765 0.21754046 0.21859135]\n",
      "28 day output [[0.21964008]]\n",
      "29 day input [0.16338134 0.16493425 0.17084534 0.17112085 0.16871634 0.16210394\n",
      " 0.16280526 0.16568566 0.17179712 0.1764809  0.17635567 0.183469\n",
      " 0.18562304 0.18219161 0.18126487 0.17778334 0.18467126 0.18564809\n",
      " 0.19273638 0.19153413 0.19313713 0.19829681 0.19556669 0.19579211\n",
      " 0.19316218 0.20077646 0.19997495 0.19644333 0.20343143 0.20641202\n",
      " 0.20726362 0.21823419 0.2144521  0.21162179 0.21282405 0.20999374\n",
      " 0.20480902 0.20348153 0.20771446 0.20964308 0.21001879 0.21828428\n",
      " 0.21763306 0.2210645  0.21613024 0.21314966 0.21517846 0.21735755\n",
      " 0.21956168 0.21635567 0.22289292 0.22444584 0.22232937 0.21475266\n",
      " 0.21122104 0.18822793 0.18036318 0.18274264 0.17871008 0.17815905\n",
      " 0.1777082  0.18189105 0.17685661 0.17465247 0.1682154  0.16944271\n",
      " 0.17282405 0.17630557 0.18604884 0.17417658 0.17976205 0.18162958\n",
      " 0.18279342 0.18425934 0.18592505 0.18770622 0.18953833 0.19137463\n",
      " 0.19318251 0.19494045 0.1966352  0.19825971 0.19981121 0.2012905\n",
      " 0.20270066 0.20404665 0.20533447 0.20657118 0.20776407 0.20892029\n",
      " 0.21004696 0.2111503  0.21223612 0.21330918 0.21437371 0.21543251\n",
      " 0.21648765 0.21754046 0.21859135 0.21964008]\n",
      "29 day output [[0.22068584]]\n",
      "[[0.18162958323955536], [0.18279342353343964], [0.1842593401670456], [0.18592505156993866], [0.18770621716976166], [0.18953832983970642], [0.19137462973594666], [0.19318251311779022], [0.194940447807312], [0.1966352015733719], [0.19825971126556396], [0.1998112052679062], [0.20129050314426422], [0.2027006596326828], [0.20404665172100067], [0.20533446967601776], [0.20657117664813995], [0.20776407420635223], [0.20892028510570526], [0.21004696190357208], [0.21115030348300934], [0.21223612129688263], [0.213309183716774], [0.21437370777130127], [0.21543250977993011], [0.21648764610290527], [0.2175404578447342], [0.2185913473367691], [0.2196400761604309], [0.22068583965301514]]\n"
     ]
    }
   ],
   "source": [
    "# demonstrate prediction for next 10 days\n",
    "from numpy import array\n",
    "\n",
    "lst_output = []\n",
    "n_steps = 100\n",
    "i = 0\n",
    "while(i<30):\n",
    "        \n",
    "        if(len(temp_input)>100):\n",
    "            #print(temp_input)\n",
    "            x_input = np.array(temp_input[1:])\n",
    "            print(\"{} day input {}\".format(i,x_input))\n",
    "            x_input = x_input.reshape(1,-1)\n",
    "            x_input = x_input.reshape((1, n_steps, 1))\n",
    "            #print(x_input)\n",
    "            yhat = model.predict(x_input, verbose=0)\n",
    "            print(\"{} day output {}\".format(i,yhat))\n",
    "            temp_input.extend(yhat[0].tolist())\n",
    "            temp_input = temp_input[1:]\n",
    "            #print(temp_input)\n",
    "            lst_output.extend(yhat.tolist())\n",
    "            i=i+1\n",
    "        else:\n",
    "            x_input = x_input.reshape((1, n_steps,1))\n",
    "            yhat = model.predict(x_input, verbose=0)\n",
    "            print(yhat[0])\n",
    "            temp_input.extend(yhat[0].tolist())\n",
    "            print(len(temp_input))\n",
    "            lst_output.extend(yhat.tolist())\n",
    "            i=i+1\n",
    "print(lst_output)"
   ]
  },
  {
   "cell_type": "code",
   "execution_count": null,
   "metadata": {},
   "outputs": [],
   "source": [
    "day_new = np.arange(1,101)\n",
    "day_pred = np.arange(101,131)"
   ]
  },
  {
   "cell_type": "code",
   "execution_count": null,
   "metadata": {},
   "outputs": [],
   "source": [
    "import matplotlib.pyplot as plt\n"
   ]
  },
  {
   "cell_type": "code",
   "execution_count": null,
   "metadata": {},
   "outputs": [],
   "source": [
    "df3 = df1.tolist()\n",
    "df3.extend(lst_output)"
   ]
  },
  {
   "cell_type": "code",
   "execution_count": null,
   "metadata": {},
   "outputs": [
    {
     "data": {
      "text/plain": [
       "[<matplotlib.lines.Line2D at 0x1aad0377690>]"
      ]
     },
     "execution_count": 52,
     "metadata": {},
     "output_type": "execute_result"
    },
    {
     "data": {
      "image/png": "[encoded data removed]",
      "text/plain": [
       "<Figure size 640x480 with 1 Axes>"
      ]
     },
     "metadata": {},
     "output_type": "display_data"
    }
   ],
   "source": [
    "plt.plot(day_new, scaler.inverse_transform(df1[1158:]))\n",
    "plt.plot(day_pred, scaler.inverse_transform(lst_output))"
   ]
  },
  {
   "cell_type": "code",
   "execution_count": null,
   "metadata": {},
   "outputs": [
    {
     "data": {
      "text/plain": [
       "[<matplotlib.lines.Line2D at 0x1aacf1bb9d0>]"
      ]
     },
     "execution_count": 53,
     "metadata": {},
     "output_type": "execute_result"
    },
    {
     "data": {
      "image/png": "[encoded data removed]",
      "text/plain": [
       "<Figure size 640x480 with 1 Axes>"
      ]
     },
     "metadata": {},
     "output_type": "display_data"
    }
   ],
   "source": [
    "df3 = df1.tolist()\n",
    "df3.extend(lst_output)\n",
    "plt.plot(df3[1200:])"
   ]
  },
  {
   "cell_type": "markdown",
   "metadata": {},
   "source": [
    "### Saving The Model"
   ]
  },
  {
   "cell_type": "code",
   "execution_count": null,
   "metadata": {},
   "outputs": [],
   "source": [
    "#save the model\n",
    "import pickle\n"
   ]
  }
 ],
 "metadata": {
  "kernelspec": {
   "display_name": "Python 3 (ipykernel)",
   "language": "python",
   "name": "python3"
  },
  "language_info": {
   "codemirror_mode": {
    "name": "ipython",
    "version": 3
   },
   "file_extension": ".py",
   "mimetype": "text/x-python",
   "name": "python",
   "nbconvert_exporter": "python",
   "pygments_lexer": "ipython3",
   "version": "3.11.2"
  }
 },
 "nbformat": 4,
 "nbformat_minor": 2
}
